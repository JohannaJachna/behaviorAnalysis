{
 "cells": [
  {
   "cell_type": "code",
   "execution_count": 1,
   "id": "6ebed3f1",
   "metadata": {},
   "outputs": [],
   "source": [
    "import pandas as pd\n",
    "import matplotlib.pyplot as plt\n",
    "import numpy as np\n",
    "import seaborn as sns\n",
    "from matplotlib.patches import Ellipse\n",
    "import matplotlib.patches as patches\n",
    "import librosa"
   ]
  },
  {
   "cell_type": "code",
   "execution_count": 2,
   "id": "ce53e9ce",
   "metadata": {
    "scrolled": true
   },
   "outputs": [
    {
     "ename": "ModuleNotFoundError",
     "evalue": "No module named 'compiled_functions_recent'",
     "output_type": "error",
     "traceback": [
      "\u001b[1;31m---------------------------------------------------------------------------\u001b[0m",
      "\u001b[1;31mModuleNotFoundError\u001b[0m                       Traceback (most recent call last)",
      "Cell \u001b[1;32mIn[2], line 1\u001b[0m\n\u001b[1;32m----> 1\u001b[0m \u001b[38;5;28;01mfrom\u001b[39;00m \u001b[38;5;21;01mcompiled_functions_recent\u001b[39;00m \u001b[38;5;28;01mimport\u001b[39;00m mouse_columns, interpolate_data, interpolate_all, normalize, summarize_data, plot_compiled_displacement, plot_all_displacement, plot_compiled_speed, plot_all_speed, plot_compiled_angle, plot_all_angle\n\u001b[0;32m      3\u001b[0m \u001b[38;5;28;01mfrom\u001b[39;00m \u001b[38;5;21;01mcompiled_trajectory\u001b[39;00m \u001b[38;5;28;01mimport\u001b[39;00m mouse_columns_x, mouse_columns_y, path_data, summarize_path, plot_trajectory\n",
      "\u001b[1;31mModuleNotFoundError\u001b[0m: No module named 'compiled_functions_recent'"
     ]
    }
   ],
   "source": [
    "from compiled_functions_recent import mouse_columns, interpolate_data, interpolate_all, normalize, summarize_data, plot_compiled_displacement, plot_all_displacement, plot_compiled_speed, plot_all_speed, plot_compiled_angle, plot_all_angle\n",
    "\n",
    "from compiled_trajectory import mouse_columns_x, mouse_columns_y, path_data, summarize_path, plot_trajectory"
   ]
  },
  {
   "cell_type": "code",
   "execution_count": null,
   "id": "392b39d3",
   "metadata": {
    "scrolled": true
   },
   "outputs": [],
   "source": [
    "from graphing_function_recent import total_seconds, likelihood_check, dataframe_ranges, convert_time, audio_timing, time_set_zero, convert_data, single_mouse_data, displacement, speed, angle, angle_speed, trajectory, head_angle_trajectory_figure, speed_figure, displacement_figure, head_angle_figure, linearity_ratio, angle_speed_figure, escape_time, filter_data, shelter_rotation\n",
    "\n",
    "from V2_M1 import coord_scaled as M1_coord_scaled, escape_only as M1_escape_only, four_second as M1_four_second, six_second as M1_six_second, long_range as M1_long_range, initial_displacement as M1_intial_displacement, total_distance as M1_total_distance, shelter_x as M1_shelter_x, shelter_y as M1_shelter_y\n",
    "\n",
    "from V2_M2 import coord_scaled as M2_coord_scaled, escape_only as M2_escape_only, four_second as M2_four_second, six_second as M2_six_second, long_range as M2_long_range, initial_displacement as M2_intial_displacement, total_distance as M2_total_distance, shelter_x as M2_shelter_x, shelter_y as M2_shelter_y\n",
    "\n",
    "from V2_M3 import coord_scaled as M3_coord_scaled, escape_only as M3_escape_only, four_second as M3_four_second, six_second as M3_six_second, long_range as M3_long_range, initial_displacement as M3_intial_displacement, total_distance as M3_total_distance, shelter_x as M3_shelter_x, shelter_y as M3_shelter_y\n",
    "\n",
    "from V2_M4 import coord_scaled as M4_coord_scaled, escape_only as M4_escape_only, four_second as M4_four_second, six_second as M4_six_second, long_range as M4_long_range, initial_displacement as M4_intial_displacement, total_distance as M4_total_distance, shelter_x as M4_shelter_x, shelter_y as M4_shelter_y\n",
    "\n",
    "from V2_M5 import coord_scaled as M5_coord_scaled, escape_only as M5_escape_only, four_second as M5_four_second, six_second as M5_six_second, long_range as M5_long_range, initial_displacement as M5_intial_displacement, total_distance as M5_total_distance, shelter_x as M5_shelter_x, shelter_y as M5_shelter_y\n"
   ]
  },
  {
   "cell_type": "code",
   "execution_count": null,
   "id": "7326d32d",
   "metadata": {
    "scrolled": true
   },
   "outputs": [],
   "source": [
    "#interpolate data, combine into one dataframe, and find mean/SEM - input number of mice, start, ,stop, step, column of interest, dataframe of interes\n",
    "#displacement \n",
    "displacement_inter_four = interpolate_all(8, -2, 4, .04, 'displacement', 'four_second')\n",
    "summarize_data(8, 'four_second_interpolated', displacement_inter_four)\n",
    "\n",
    "displacement_inter_six = interpolate_all(8, -3, 6, .04, 'displacement', 'six_second')\n",
    "summarize_data(8, 'six_second_interpolated', displacement_inter_six)\n",
    "\n",
    "#speed\n",
    "speed_inter_four = interpolate_all(8, -2, 4, .04, 'speed', 'four_second')\n",
    "summarize_data(8, 'four_second_interpolated', speed_inter_four)\n",
    "\n",
    "speed_inter_six = interpolate_all(8, -3, 6, .04, 'speed', 'six_second')\n",
    "summarize_data(8, 'six_second_interpolated', speed_inter_six)\n",
    "\n",
    "#head angle\n",
    "angle_inter_four = interpolate_all(8, -2, 4, .04, 'head_angle', 'four_second')\n",
    "summarize_data(8, 'four_second_interpolated', angle_inter_four)\n",
    "\n",
    "angle_inter_six = interpolate_all(8, -3, 6, .04, 'head_angle', 'six_second')\n",
    "summarize_data(8, 'six_second_interpolated', angle_inter_six)"
   ]
  },
  {
   "cell_type": "code",
   "execution_count": null,
   "id": "23c5574a",
   "metadata": {},
   "outputs": [],
   "source": [
    "plot_compiled_displacement(displacement_inter_four,7.5, 4)"
   ]
  },
  {
   "cell_type": "code",
   "execution_count": null,
   "id": "702b8c49",
   "metadata": {
    "scrolled": false
   },
   "outputs": [],
   "source": [
    "plot_compiled_displacement(displacement_inter_six, 7.5,4)"
   ]
  },
  {
   "cell_type": "code",
   "execution_count": null,
   "id": "fb22e84d",
   "metadata": {},
   "outputs": [],
   "source": [
    "plot_compiled_speed(speed_inter_four,7.5, 4)"
   ]
  },
  {
   "cell_type": "code",
   "execution_count": null,
   "id": "7f82e2f6",
   "metadata": {},
   "outputs": [],
   "source": [
    "plot_compiled_speed(speed_inter_six, 7.5,4)"
   ]
  },
  {
   "cell_type": "code",
   "execution_count": null,
   "id": "a2048b43",
   "metadata": {},
   "outputs": [],
   "source": [
    "plot_compiled_angle(angle_inter_four,7.5, 4)"
   ]
  },
  {
   "cell_type": "code",
   "execution_count": null,
   "id": "ed278aa2",
   "metadata": {},
   "outputs": [],
   "source": [
    "plot_compiled_angle(angle_inter_six, 7.5,4)"
   ]
  },
  {
   "cell_type": "code",
   "execution_count": null,
   "id": "77b21e5b",
   "metadata": {},
   "outputs": [],
   "source": [
    "plot_all_displacement(displacement_inter_four, mouse_columns(8, 'four_second_interpolated'), 7, 4)"
   ]
  },
  {
   "cell_type": "code",
   "execution_count": null,
   "id": "df2ecda8",
   "metadata": {},
   "outputs": [],
   "source": [
    "plt.figure()\n",
    "ax=plt.axes()\n",
    "\n",
    "x = displacement_inter_four['time']\n",
    "y = displacement_inter_four['average']\n",
    "y_up = displacement_inter_four['SEM_up']\n",
    "y_down = displacement_inter_four['SEM_down']\n",
    "\n",
    "ax.plot(x,y, label = 'displacement')\n",
    "ax.plot(x,y_up, color = 'none')\n",
    "ax.plot(x,y_down, color = 'none')\n",
    "plt.fill_between(x,y_up, y_down, color = 'blue', alpha = .05)\n",
    "ax.set_xlabel('Time from stimulus onset (s)')\n",
    "ax.set_ylabel('Displacement (cm) and speed (cm/s)') #convert to cm - cm/s\n",
    "ax.set_title('Average displacement and speed after stimulus onset')\n",
    "plt.axvline(x=0, color='gray', linestyle='--', linewidth=1)\n",
    "\n",
    "xs = speed_inter_four['time']\n",
    "ys = speed_inter_four['average']\n",
    "y_ups = speed_inter_four['SEM_up']\n",
    "y_downs = speed_inter_four['SEM_down']\n",
    "\n",
    "ax.plot(xs,ys, color='red', label = 'speed')\n",
    "ax.plot(xs,y_ups, color = 'none')\n",
    "ax.plot(xs,y_downs, color = 'none')\n",
    "plt.fill_between(xs,y_ups, y_downs, color = 'red', alpha = .05)\n",
    "\n",
    "xa = angle_inter_four['time']\n",
    "ya = angle_inter_four['average']\n",
    "y_upa = angle_inter_four['SEM_up']\n",
    "y_downa = angle_inter_four['SEM_down']\n",
    "\n",
    "ax.plot(xa,ya, color='green', label = 'head angle')\n",
    "ax.plot(xa,y_upa, color = 'none')\n",
    "ax.plot(xa,y_downa, color = 'none')\n",
    "plt.fill_between(xa,y_upa, y_downa, color = 'green', alpha = .05)\n",
    "\n",
    "plt.legend(loc = 'upper right')"
   ]
  },
  {
   "cell_type": "code",
   "execution_count": null,
   "id": "74bd63d8",
   "metadata": {},
   "outputs": [],
   "source": []
  }
 ],
 "metadata": {
  "kernelspec": {
   "display_name": "Python 3 (ipykernel)",
   "language": "python",
   "name": "python3"
  },
  "language_info": {
   "codemirror_mode": {
    "name": "ipython",
    "version": 3
   },
   "file_extension": ".py",
   "mimetype": "text/x-python",
   "name": "python",
   "nbconvert_exporter": "python",
   "pygments_lexer": "ipython3",
   "version": "3.10.9"
  }
 },
 "nbformat": 4,
 "nbformat_minor": 5
}
