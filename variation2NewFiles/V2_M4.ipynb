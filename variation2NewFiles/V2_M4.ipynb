{
 "cells": [
  {
   "cell_type": "code",
   "execution_count": 1,
   "id": "b829e103",
   "metadata": {},
   "outputs": [],
   "source": [
    "import pandas as pd\n",
    "import matplotlib.pyplot as plt\n",
    "import numpy as np\n",
    "import seaborn as sns\n",
    "from matplotlib.patches import Ellipse\n",
    "import matplotlib.patches as patches\n",
    "import librosa\n",
    "\n",
    "%run graphing_function_recent.ipynb"
   ]
  },
  {
   "cell_type": "code",
   "execution_count": 2,
   "id": "22ddcd07",
   "metadata": {},
   "outputs": [],
   "source": [
    "#Use this for all adjustable values \n",
    "#input file paths here (include .csv):\n",
    "video_path = r'\\\\10.25.16.5\\yaochen\\Active\\DLC\\Final_Models\\Hanna\\escape_behavior_HannaJachna_2024-07-8\\Tested_V2\\coords_csv\\CoordM4_P2_6_18_24_videoDLC_resnet50_escape_behavior_2Jun13shuffle1_1030000_filtered_day.csv'\n",
    "time_path = r'\\\\10.25.16.5\\yaochen\\Active\\Lindsey\\set_up_testing\\V2\\Timestamp\\M4_P2_6_18_24_timestamp0.csv'\n",
    "audio_path = r'\\\\10.25.16.5\\yaochen\\Active\\Lindsey\\set_up_testing\\V2\\Audio\\M4_P2_6_18_24_audio.wav'\n",
    "\n",
    "north_pixel = 17\n",
    "south_pixel = 455\n",
    "east_pixel = 567\n",
    "west_pixel = 98\n",
    "shelter_x_pixel = 316\n",
    "shelter_y_pixel = 44\n",
    "\n",
    "#input info from time_and_audio info notebook (either from audacity or bonsai)\n",
    "stimulus_start = 305.6204759999983  #stimulus start time\n",
    "stimulus_end = 313.2504759999983 #stimulus end time\n",
    "escape_done = 308 #time mouse reaches shelter location \n"
   ]
  },
  {
   "cell_type": "code",
   "execution_count": 3,
   "id": "13ced2f0",
   "metadata": {},
   "outputs": [],
   "source": [
    "#manually decide?\n",
    "escape_response = True\n",
    "freezing_response = False\n",
    "#small_angle = "
   ]
  },
  {
   "cell_type": "code",
   "execution_count": 4,
   "id": "677c094e",
   "metadata": {},
   "outputs": [],
   "source": [
    "#read in DLC data, convert to cm, center platform at 0,0\n",
    "shelter_x, shelter_y, x_diam, y_diam, coord_scaled = single_mouse_data(north_pixel, south_pixel, east_pixel, west_pixel, shelter_x_pixel, shelter_y_pixel, video_path)"
   ]
  },
  {
   "cell_type": "code",
   "execution_count": 5,
   "id": "757e0bea",
   "metadata": {
    "scrolled": false
   },
   "outputs": [],
   "source": [
    "#replace any head, nose, or center points with likelihood < .9 with NA\n",
    "filter_data(.8, coord_scaled)"
   ]
  },
  {
   "cell_type": "code",
   "execution_count": 6,
   "id": "fd54aba5",
   "metadata": {
    "scrolled": false
   },
   "outputs": [],
   "source": [
    "#coord_filtered"
   ]
  },
  {
   "cell_type": "code",
   "execution_count": 7,
   "id": "4b413417",
   "metadata": {
    "scrolled": false
   },
   "outputs": [
    {
     "data": {
      "text/html": [
       "<div>\n",
       "<style scoped>\n",
       "    .dataframe tbody tr th:only-of-type {\n",
       "        vertical-align: middle;\n",
       "    }\n",
       "\n",
       "    .dataframe tbody tr th {\n",
       "        vertical-align: top;\n",
       "    }\n",
       "\n",
       "    .dataframe thead th {\n",
       "        text-align: right;\n",
       "    }\n",
       "</style>\n",
       "<table border=\"1\" class=\"dataframe\">\n",
       "  <thead>\n",
       "    <tr style=\"text-align: right;\">\n",
       "      <th></th>\n",
       "      <th>Unnamed: 0</th>\n",
       "      <th>frames</th>\n",
       "      <th>nose_x</th>\n",
       "      <th>nose_y</th>\n",
       "      <th>nose_likelihood</th>\n",
       "      <th>head_x</th>\n",
       "      <th>head_y</th>\n",
       "      <th>head_likelihood</th>\n",
       "      <th>earRight_x</th>\n",
       "      <th>earRight_y</th>\n",
       "      <th>...</th>\n",
       "      <th>spine1_likelihood</th>\n",
       "      <th>center_x</th>\n",
       "      <th>center_y</th>\n",
       "      <th>center_likelihood</th>\n",
       "      <th>spine2_x</th>\n",
       "      <th>spine2_y</th>\n",
       "      <th>spine2_likelihood</th>\n",
       "      <th>spine3_x</th>\n",
       "      <th>spine3_y</th>\n",
       "      <th>spine3_likelihood</th>\n",
       "    </tr>\n",
       "  </thead>\n",
       "  <tbody>\n",
       "    <tr>\n",
       "      <th>0</th>\n",
       "      <td>0</td>\n",
       "      <td>0</td>\n",
       "      <td>NaN</td>\n",
       "      <td>NaN</td>\n",
       "      <td>0.000039</td>\n",
       "      <td>NaN</td>\n",
       "      <td>NaN</td>\n",
       "      <td>0.003603</td>\n",
       "      <td>-30.627938</td>\n",
       "      <td>0.003322</td>\n",
       "      <td>...</td>\n",
       "      <td>0.000063</td>\n",
       "      <td>NaN</td>\n",
       "      <td>NaN</td>\n",
       "      <td>0.000063</td>\n",
       "      <td>2.434143</td>\n",
       "      <td>29.748282</td>\n",
       "      <td>0.000057</td>\n",
       "      <td>-30.264276</td>\n",
       "      <td>0.707559</td>\n",
       "      <td>0.000287</td>\n",
       "    </tr>\n",
       "    <tr>\n",
       "      <th>1</th>\n",
       "      <td>1</td>\n",
       "      <td>1</td>\n",
       "      <td>NaN</td>\n",
       "      <td>NaN</td>\n",
       "      <td>0.000063</td>\n",
       "      <td>NaN</td>\n",
       "      <td>NaN</td>\n",
       "      <td>0.006099</td>\n",
       "      <td>-30.618448</td>\n",
       "      <td>0.060703</td>\n",
       "      <td>...</td>\n",
       "      <td>0.000035</td>\n",
       "      <td>NaN</td>\n",
       "      <td>NaN</td>\n",
       "      <td>0.000045</td>\n",
       "      <td>2.434143</td>\n",
       "      <td>29.772759</td>\n",
       "      <td>0.000031</td>\n",
       "      <td>-29.956075</td>\n",
       "      <td>0.913244</td>\n",
       "      <td>0.000127</td>\n",
       "    </tr>\n",
       "    <tr>\n",
       "      <th>2</th>\n",
       "      <td>2</td>\n",
       "      <td>2</td>\n",
       "      <td>NaN</td>\n",
       "      <td>NaN</td>\n",
       "      <td>0.000035</td>\n",
       "      <td>NaN</td>\n",
       "      <td>NaN</td>\n",
       "      <td>0.009843</td>\n",
       "      <td>-30.488740</td>\n",
       "      <td>0.158268</td>\n",
       "      <td>...</td>\n",
       "      <td>0.000055</td>\n",
       "      <td>NaN</td>\n",
       "      <td>NaN</td>\n",
       "      <td>0.000036</td>\n",
       "      <td>2.434143</td>\n",
       "      <td>29.832350</td>\n",
       "      <td>0.000039</td>\n",
       "      <td>-29.956075</td>\n",
       "      <td>0.913460</td>\n",
       "      <td>0.000154</td>\n",
       "    </tr>\n",
       "    <tr>\n",
       "      <th>3</th>\n",
       "      <td>3</td>\n",
       "      <td>3</td>\n",
       "      <td>NaN</td>\n",
       "      <td>NaN</td>\n",
       "      <td>0.000027</td>\n",
       "      <td>NaN</td>\n",
       "      <td>NaN</td>\n",
       "      <td>0.007824</td>\n",
       "      <td>-30.380012</td>\n",
       "      <td>0.158268</td>\n",
       "      <td>...</td>\n",
       "      <td>0.000049</td>\n",
       "      <td>NaN</td>\n",
       "      <td>NaN</td>\n",
       "      <td>0.000041</td>\n",
       "      <td>2.252098</td>\n",
       "      <td>29.832350</td>\n",
       "      <td>0.000299</td>\n",
       "      <td>-29.956075</td>\n",
       "      <td>1.366288</td>\n",
       "      <td>0.000310</td>\n",
       "    </tr>\n",
       "    <tr>\n",
       "      <th>4</th>\n",
       "      <td>4</td>\n",
       "      <td>4</td>\n",
       "      <td>NaN</td>\n",
       "      <td>NaN</td>\n",
       "      <td>0.000026</td>\n",
       "      <td>NaN</td>\n",
       "      <td>NaN</td>\n",
       "      <td>0.010619</td>\n",
       "      <td>-30.374779</td>\n",
       "      <td>0.060703</td>\n",
       "      <td>...</td>\n",
       "      <td>0.000052</td>\n",
       "      <td>NaN</td>\n",
       "      <td>NaN</td>\n",
       "      <td>0.000040</td>\n",
       "      <td>2.233922</td>\n",
       "      <td>29.927524</td>\n",
       "      <td>0.000491</td>\n",
       "      <td>-29.996075</td>\n",
       "      <td>1.366288</td>\n",
       "      <td>0.000931</td>\n",
       "    </tr>\n",
       "    <tr>\n",
       "      <th>...</th>\n",
       "      <td>...</td>\n",
       "      <td>...</td>\n",
       "      <td>...</td>\n",
       "      <td>...</td>\n",
       "      <td>...</td>\n",
       "      <td>...</td>\n",
       "      <td>...</td>\n",
       "      <td>...</td>\n",
       "      <td>...</td>\n",
       "      <td>...</td>\n",
       "      <td>...</td>\n",
       "      <td>...</td>\n",
       "      <td>...</td>\n",
       "      <td>...</td>\n",
       "      <td>...</td>\n",
       "      <td>...</td>\n",
       "      <td>...</td>\n",
       "      <td>...</td>\n",
       "      <td>...</td>\n",
       "      <td>...</td>\n",
       "      <td>...</td>\n",
       "    </tr>\n",
       "    <tr>\n",
       "      <th>8835</th>\n",
       "      <td>8835</td>\n",
       "      <td>8835</td>\n",
       "      <td>28.645564</td>\n",
       "      <td>12.965043</td>\n",
       "      <td>0.005415</td>\n",
       "      <td>27.752169</td>\n",
       "      <td>14.352170</td>\n",
       "      <td>0.930015</td>\n",
       "      <td>27.772348</td>\n",
       "      <td>14.954754</td>\n",
       "      <td>...</td>\n",
       "      <td>0.999970</td>\n",
       "      <td>24.412810</td>\n",
       "      <td>14.018914</td>\n",
       "      <td>0.999980</td>\n",
       "      <td>22.373475</td>\n",
       "      <td>14.077163</td>\n",
       "      <td>0.999965</td>\n",
       "      <td>20.265417</td>\n",
       "      <td>14.030215</td>\n",
       "      <td>0.999992</td>\n",
       "    </tr>\n",
       "    <tr>\n",
       "      <th>8836</th>\n",
       "      <td>8836</td>\n",
       "      <td>8836</td>\n",
       "      <td>28.645564</td>\n",
       "      <td>12.965043</td>\n",
       "      <td>0.006994</td>\n",
       "      <td>27.774245</td>\n",
       "      <td>14.066040</td>\n",
       "      <td>0.922210</td>\n",
       "      <td>27.798156</td>\n",
       "      <td>14.758052</td>\n",
       "      <td>...</td>\n",
       "      <td>0.999972</td>\n",
       "      <td>24.422947</td>\n",
       "      <td>13.858224</td>\n",
       "      <td>0.999984</td>\n",
       "      <td>22.508850</td>\n",
       "      <td>14.021915</td>\n",
       "      <td>0.999981</td>\n",
       "      <td>20.393095</td>\n",
       "      <td>14.030215</td>\n",
       "      <td>0.999997</td>\n",
       "    </tr>\n",
       "    <tr>\n",
       "      <th>8837</th>\n",
       "      <td>8837</td>\n",
       "      <td>8837</td>\n",
       "      <td>28.645564</td>\n",
       "      <td>12.965043</td>\n",
       "      <td>0.004170</td>\n",
       "      <td>28.082417</td>\n",
       "      <td>13.691936</td>\n",
       "      <td>0.696116</td>\n",
       "      <td>28.338472</td>\n",
       "      <td>14.470571</td>\n",
       "      <td>...</td>\n",
       "      <td>0.999967</td>\n",
       "      <td>24.883656</td>\n",
       "      <td>13.668021</td>\n",
       "      <td>0.999979</td>\n",
       "      <td>22.772752</td>\n",
       "      <td>13.737570</td>\n",
       "      <td>0.999977</td>\n",
       "      <td>20.715588</td>\n",
       "      <td>14.030215</td>\n",
       "      <td>0.999997</td>\n",
       "    </tr>\n",
       "    <tr>\n",
       "      <th>8838</th>\n",
       "      <td>8838</td>\n",
       "      <td>8838</td>\n",
       "      <td>28.645564</td>\n",
       "      <td>12.965043</td>\n",
       "      <td>0.005954</td>\n",
       "      <td>28.390589</td>\n",
       "      <td>13.317832</td>\n",
       "      <td>0.842752</td>\n",
       "      <td>28.338472</td>\n",
       "      <td>14.291830</td>\n",
       "      <td>...</td>\n",
       "      <td>0.999982</td>\n",
       "      <td>24.883656</td>\n",
       "      <td>13.355650</td>\n",
       "      <td>0.999975</td>\n",
       "      <td>22.772752</td>\n",
       "      <td>13.546984</td>\n",
       "      <td>0.999954</td>\n",
       "      <td>20.715588</td>\n",
       "      <td>13.905507</td>\n",
       "      <td>0.999993</td>\n",
       "    </tr>\n",
       "    <tr>\n",
       "      <th>8839</th>\n",
       "      <td>8839</td>\n",
       "      <td>8839</td>\n",
       "      <td>28.645564</td>\n",
       "      <td>12.965043</td>\n",
       "      <td>0.006072</td>\n",
       "      <td>28.390589</td>\n",
       "      <td>13.243480</td>\n",
       "      <td>0.814588</td>\n",
       "      <td>28.338472</td>\n",
       "      <td>14.055351</td>\n",
       "      <td>...</td>\n",
       "      <td>0.999974</td>\n",
       "      <td>24.883656</td>\n",
       "      <td>13.090925</td>\n",
       "      <td>0.999987</td>\n",
       "      <td>22.772752</td>\n",
       "      <td>13.428724</td>\n",
       "      <td>0.999975</td>\n",
       "      <td>20.715588</td>\n",
       "      <td>13.811090</td>\n",
       "      <td>0.999992</td>\n",
       "    </tr>\n",
       "  </tbody>\n",
       "</table>\n",
       "<p>8840 rows × 26 columns</p>\n",
       "</div>"
      ],
      "text/plain": [
       "      Unnamed: 0  frames     nose_x     nose_y  nose_likelihood     head_x  \\\n",
       "0              0       0        NaN        NaN         0.000039        NaN   \n",
       "1              1       1        NaN        NaN         0.000063        NaN   \n",
       "2              2       2        NaN        NaN         0.000035        NaN   \n",
       "3              3       3        NaN        NaN         0.000027        NaN   \n",
       "4              4       4        NaN        NaN         0.000026        NaN   \n",
       "...          ...     ...        ...        ...              ...        ...   \n",
       "8835        8835    8835  28.645564  12.965043         0.005415  27.752169   \n",
       "8836        8836    8836  28.645564  12.965043         0.006994  27.774245   \n",
       "8837        8837    8837  28.645564  12.965043         0.004170  28.082417   \n",
       "8838        8838    8838  28.645564  12.965043         0.005954  28.390589   \n",
       "8839        8839    8839  28.645564  12.965043         0.006072  28.390589   \n",
       "\n",
       "         head_y  head_likelihood  earRight_x  earRight_y  ...  \\\n",
       "0           NaN         0.003603  -30.627938    0.003322  ...   \n",
       "1           NaN         0.006099  -30.618448    0.060703  ...   \n",
       "2           NaN         0.009843  -30.488740    0.158268  ...   \n",
       "3           NaN         0.007824  -30.380012    0.158268  ...   \n",
       "4           NaN         0.010619  -30.374779    0.060703  ...   \n",
       "...         ...              ...         ...         ...  ...   \n",
       "8835  14.352170         0.930015   27.772348   14.954754  ...   \n",
       "8836  14.066040         0.922210   27.798156   14.758052  ...   \n",
       "8837  13.691936         0.696116   28.338472   14.470571  ...   \n",
       "8838  13.317832         0.842752   28.338472   14.291830  ...   \n",
       "8839  13.243480         0.814588   28.338472   14.055351  ...   \n",
       "\n",
       "      spine1_likelihood   center_x   center_y  center_likelihood   spine2_x  \\\n",
       "0              0.000063        NaN        NaN           0.000063   2.434143   \n",
       "1              0.000035        NaN        NaN           0.000045   2.434143   \n",
       "2              0.000055        NaN        NaN           0.000036   2.434143   \n",
       "3              0.000049        NaN        NaN           0.000041   2.252098   \n",
       "4              0.000052        NaN        NaN           0.000040   2.233922   \n",
       "...                 ...        ...        ...                ...        ...   \n",
       "8835           0.999970  24.412810  14.018914           0.999980  22.373475   \n",
       "8836           0.999972  24.422947  13.858224           0.999984  22.508850   \n",
       "8837           0.999967  24.883656  13.668021           0.999979  22.772752   \n",
       "8838           0.999982  24.883656  13.355650           0.999975  22.772752   \n",
       "8839           0.999974  24.883656  13.090925           0.999987  22.772752   \n",
       "\n",
       "       spine2_y  spine2_likelihood   spine3_x   spine3_y  spine3_likelihood  \n",
       "0     29.748282           0.000057 -30.264276   0.707559           0.000287  \n",
       "1     29.772759           0.000031 -29.956075   0.913244           0.000127  \n",
       "2     29.832350           0.000039 -29.956075   0.913460           0.000154  \n",
       "3     29.832350           0.000299 -29.956075   1.366288           0.000310  \n",
       "4     29.927524           0.000491 -29.996075   1.366288           0.000931  \n",
       "...         ...                ...        ...        ...                ...  \n",
       "8835  14.077163           0.999965  20.265417  14.030215           0.999992  \n",
       "8836  14.021915           0.999981  20.393095  14.030215           0.999997  \n",
       "8837  13.737570           0.999977  20.715588  14.030215           0.999997  \n",
       "8838  13.546984           0.999954  20.715588  13.905507           0.999993  \n",
       "8839  13.428724           0.999975  20.715588  13.811090           0.999992  \n",
       "\n",
       "[8840 rows x 26 columns]"
      ]
     },
     "execution_count": 7,
     "metadata": {},
     "output_type": "execute_result"
    }
   ],
   "source": [
    "coord_scaled"
   ]
  },
  {
   "cell_type": "code",
   "execution_count": 8,
   "id": "0c44aea4",
   "metadata": {},
   "outputs": [],
   "source": [
    "#convert timestamps to zeroed seconds\n",
    "convert_time(time_path, coord_scaled)"
   ]
  },
  {
   "cell_type": "code",
   "execution_count": 9,
   "id": "13d8a4b7",
   "metadata": {
    "scrolled": true
   },
   "outputs": [],
   "source": [
    "#REPLACE ONCE WE HAVE STIMULUS TIMESTAMPS\n",
    "#returns start and stop times of stimulus.\n",
    "start, stimulus_end = audio_timing(stimulus_start, stimulus_end, audio_path, coord_scaled['time'].iloc[-1])"
   ]
  },
  {
   "cell_type": "code",
   "execution_count": 10,
   "id": "786e3c1a",
   "metadata": {},
   "outputs": [],
   "source": [
    "#find time stimulus ends and mouse reaches shelter(escape) if stimulus is set to 0s\n",
    "end, escape = time_set_zero(start, stimulus_end, escape_done, coord_scaled)"
   ]
  },
  {
   "cell_type": "code",
   "execution_count": 11,
   "id": "3ef6f7ed",
   "metadata": {},
   "outputs": [],
   "source": [
    "#calculate displacement as 'displacement'\n",
    "displacement(shelter_x, shelter_y, coord_scaled)"
   ]
  },
  {
   "cell_type": "code",
   "execution_count": 12,
   "id": "3397efed",
   "metadata": {},
   "outputs": [],
   "source": [
    "#calculate speed as 'speed' and change in displacement as 'delta_vector'\n",
    "total_distance = speed(coord_scaled)"
   ]
  },
  {
   "cell_type": "code",
   "execution_count": 13,
   "id": "687c3169",
   "metadata": {},
   "outputs": [],
   "source": [
    "#calculate head angle as 'head_angle'\n",
    "angle(shelter_x, shelter_y, coord_scaled)"
   ]
  },
  {
   "cell_type": "code",
   "execution_count": 14,
   "id": "737c9e3f",
   "metadata": {},
   "outputs": [],
   "source": [
    "#calculate head angle speed as 'angle_speed'\n",
    "angle_speed(coord_scaled)"
   ]
  },
  {
   "cell_type": "code",
   "execution_count": 15,
   "id": "4597d61c",
   "metadata": {},
   "outputs": [],
   "source": [
    "#create dataframes isolated to 4 ranges: just shelter reaching, 3 seconds before and 6 after, 2 before and 4 after, and 1 where you can input your own parameters\n",
    "#return 4 dataframes \n",
    "escape_only, four_second, six_second, long_range = dataframe_ranges(-15, 30, escape,coord_scaled)"
   ]
  },
  {
   "cell_type": "code",
   "execution_count": null,
   "id": "4be631c1",
   "metadata": {},
   "outputs": [
    {
     "ename": "NameError",
     "evalue": "name 'x' is not defined",
     "output_type": "error",
     "traceback": [
      "\u001b[1;31m---------------------------------------------------------------------------\u001b[0m",
      "\u001b[1;31mNameError\u001b[0m                                 Traceback (most recent call last)",
      "Cell \u001b[1;32mIn[16], line 1\u001b[0m\n\u001b[1;32m----> 1\u001b[0m \u001b[43mtrajectory\u001b[49m\u001b[43m(\u001b[49m\u001b[43mshelter_x\u001b[49m\u001b[43m,\u001b[49m\u001b[43m \u001b[49m\u001b[43mshelter_y\u001b[49m\u001b[43m,\u001b[49m\u001b[43m \u001b[49m\u001b[43mx_diam\u001b[49m\u001b[43m,\u001b[49m\u001b[43m \u001b[49m\u001b[43my_diam\u001b[49m\u001b[43m,\u001b[49m\u001b[43m \u001b[49m\u001b[43mescape_only\u001b[49m\u001b[43m)\u001b[49m\n",
      "File \u001b[1;32m~\\AppData\\Local\\Temp\\ipykernel_11496\\952089766.py:29\u001b[0m, in \u001b[0;36mtrajectory\u001b[1;34m(shelter_x, shelter_y, x_diam, y_diam, df)\u001b[0m\n\u001b[0;32m     24\u001b[0m     shelter \u001b[38;5;241m=\u001b[39m patches\u001b[38;5;241m.\u001b[39mRectangle(((shelter_x \u001b[38;5;241m-\u001b[39m \u001b[38;5;241m5.25\u001b[39m), (shelter_y\u001b[38;5;241m-\u001b[39m\u001b[38;5;241m6.25\u001b[39m)), \u001b[38;5;241m10.5\u001b[39m,\u001b[38;5;241m12.5\u001b[39m,  linewidth \u001b[38;5;241m=\u001b[39m \u001b[38;5;241m.8\u001b[39m, edgecolor \u001b[38;5;241m=\u001b[39m \u001b[38;5;124m'\u001b[39m\u001b[38;5;124mnone\u001b[39m\u001b[38;5;124m'\u001b[39m, facecolor \u001b[38;5;241m=\u001b[39m \u001b[38;5;124m'\u001b[39m\u001b[38;5;124mblue\u001b[39m\u001b[38;5;124m'\u001b[39m, alpha \u001b[38;5;241m=\u001b[39m \u001b[38;5;241m.1\u001b[39m)\n\u001b[0;32m     27\u001b[0m plt\u001b[38;5;241m.\u001b[39mtext(shelter_x\u001b[38;5;241m-\u001b[39m\u001b[38;5;241m1\u001b[39m,shelter_y\u001b[38;5;241m-\u001b[39m\u001b[38;5;241m1\u001b[39m, \u001b[38;5;124m'\u001b[39m\u001b[38;5;124mS\u001b[39m\u001b[38;5;124m'\u001b[39m, color \u001b[38;5;241m=\u001b[39m \u001b[38;5;124m'\u001b[39m\u001b[38;5;124mblack\u001b[39m\u001b[38;5;124m'\u001b[39m, size \u001b[38;5;241m=\u001b[39m \u001b[38;5;241m10\u001b[39m)\n\u001b[1;32m---> 29\u001b[0m ax\u001b[38;5;241m.\u001b[39mplot(\u001b[43mx\u001b[49m,y, color \u001b[38;5;241m=\u001b[39m \u001b[38;5;124m'\u001b[39m\u001b[38;5;124mblue\u001b[39m\u001b[38;5;124m'\u001b[39m, linewidth \u001b[38;5;241m=\u001b[39m \u001b[38;5;241m1\u001b[39m)\n\u001b[0;32m     30\u001b[0m ax\u001b[38;5;241m.\u001b[39madd_patch(platform)\n\u001b[0;32m     31\u001b[0m ax\u001b[38;5;241m.\u001b[39madd_patch(shelter)\n",
      "\u001b[1;31mNameError\u001b[0m: name 'x' is not defined"
     ]
    }
   ],
   "source": [
    "trajectory(shelter_x, shelter_y, x_diam, y_diam, escape_only)"
   ]
  },
  {
   "cell_type": "code",
   "execution_count": null,
   "id": "cbc5e3cd",
   "metadata": {},
   "outputs": [],
   "source": [
    "head_angle_trajectory_figure(shelter_x, shelter_y, x_diam, y_diam, escape_only)"
   ]
  },
  {
   "cell_type": "code",
   "execution_count": null,
   "id": "1443e936",
   "metadata": {},
   "outputs": [],
   "source": [
    "speed_figure(four_second['time_set'].iloc[-1],4, four_second)"
   ]
  },
  {
   "cell_type": "code",
   "execution_count": null,
   "id": "b1424e3a",
   "metadata": {},
   "outputs": [],
   "source": [
    "speed_figure(six_second['time_set'].iloc[-1],4, six_second)\n"
   ]
  },
  {
   "cell_type": "code",
   "execution_count": null,
   "id": "6864280b",
   "metadata": {},
   "outputs": [],
   "source": [
    "speed_figure(end,9, long_range)"
   ]
  },
  {
   "cell_type": "code",
   "execution_count": null,
   "id": "2acb4378",
   "metadata": {},
   "outputs": [],
   "source": [
    "displacement_figure(four_second['time_set'].iloc[-1],4, four_second)"
   ]
  },
  {
   "cell_type": "code",
   "execution_count": null,
   "id": "25742ae9",
   "metadata": {},
   "outputs": [],
   "source": [
    "displacement_figure(six_second['time_set'].iloc[-1],4, six_second)"
   ]
  },
  {
   "cell_type": "code",
   "execution_count": null,
   "id": "6c37e446",
   "metadata": {},
   "outputs": [],
   "source": [
    "displacement_figure(end,9, long_range)"
   ]
  },
  {
   "cell_type": "code",
   "execution_count": null,
   "id": "61ba57b7",
   "metadata": {},
   "outputs": [],
   "source": [
    "head_angle_figure(four_second['time_set'].iloc[-1],4, four_second)"
   ]
  },
  {
   "cell_type": "code",
   "execution_count": null,
   "id": "2e69c097",
   "metadata": {},
   "outputs": [],
   "source": [
    "head_angle_figure(six_second['time_set'].iloc[-1],4, six_second)"
   ]
  },
  {
   "cell_type": "code",
   "execution_count": null,
   "id": "bfb5cc48",
   "metadata": {},
   "outputs": [],
   "source": [
    "angle_speed_figure(four_second['time_set'].iloc[-1], 4,four_second)"
   ]
  },
  {
   "cell_type": "code",
   "execution_count": null,
   "id": "e20abc94",
   "metadata": {},
   "outputs": [],
   "source": [
    "ratio, initial_displacement, total_distance = linearity_ratio(escape_only)"
   ]
  },
  {
   "cell_type": "code",
   "execution_count": null,
   "id": "be0eb18e",
   "metadata": {},
   "outputs": [],
   "source": [
    "#shelter_rotation(shelter_x, shelter_y, escape_only)"
   ]
  },
  {
   "cell_type": "code",
   "execution_count": null,
   "id": "316d9a77",
   "metadata": {
    "scrolled": true
   },
   "outputs": [],
   "source": [
    "escape_only"
   ]
  },
  {
   "cell_type": "code",
   "execution_count": null,
   "id": "4739b834",
   "metadata": {},
   "outputs": [],
   "source": [
    "likelihood_data, likelihood_minus_nose, likelihood_center = likelihood_check(0, 8, .9, coord_scaled)"
   ]
  },
  {
   "cell_type": "code",
   "execution_count": null,
   "id": "24bceebc",
   "metadata": {
    "scrolled": true
   },
   "outputs": [],
   "source": [
    "likelihood_data #need to adjust time frame to be useful "
   ]
  },
  {
   "cell_type": "code",
   "execution_count": null,
   "id": "9832b067",
   "metadata": {},
   "outputs": [],
   "source": [
    "rotate, shelter_rotate_x, shelter_rotate_y = rotate_trajectory(shelter_x, shelter_y, escape_only)\n",
    "normalized_df, shelter_normalized_x, shelter_normalized_y, combined_range = normalize_rotation(rotate, shelter_rotate_x, shelter_rotate_y)"
   ]
  },
  {
   "cell_type": "code",
   "execution_count": null,
   "id": "77c2d27e",
   "metadata": {},
   "outputs": [],
   "source": [
    "fig = plt.figure()  #create figure to fill in\n",
    "ax = plt.axes()\n",
    "    \n",
    "    #make x and y scales equal - present as a circle\n",
    "\n",
    "\n",
    "    #plot the center x and y coordinates\n",
    "x = rotate['rotated_x']\n",
    "y = rotate['rotated_y']\n",
    "\n",
    "ax.text(shelter_rotate_x,shelter_rotate_y, 'S', color = 'black', size = 10)\n",
    "shelter = patches.Rectangle(((shelter_rotate_x - 5.25), (shelter_rotate_y-6.25)), 10.5,12.5,  linewidth = .8, edgecolor = 'none', facecolor = 'blue', alpha = .1)\n",
    "ax.add_patch(shelter)\n",
    "\n",
    "ax.set_aspect('equal')\n",
    "ax.plot(x,y, color = 'blue', linewidth = 1)\n"
   ]
  },
  {
   "cell_type": "code",
   "execution_count": null,
   "id": "1b459d6c",
   "metadata": {},
   "outputs": [],
   "source": [
    "\n",
    "fig = plt.figure()  #create figure to fill in\n",
    "ax = plt.axes()\n",
    "    \n",
    "x = normalized_df['x']\n",
    "y = normalized_df['y']\n",
    "\n",
    "ax.text(shelter_normalized_x,shelter_normalized_y, 'S', color = 'black', size = 10)\n",
    "shelter = patches.Rectangle(((shelter_normalized_x - 5.25/combined_range), (shelter_normalized_y-6.25/combined_range)), 10.5/combined_range,12.5/combined_range,  linewidth = .8, edgecolor = 'none', facecolor = 'blue', alpha = .1)\n",
    "ax.add_patch(shelter)\n",
    "\n",
    "ax.set_aspect('equal')\n",
    "ax.plot(x,y, color = 'blue', linewidth = 1)\n",
    "    \n",
    "\n"
   ]
  }
 ],
 "metadata": {
  "kernelspec": {
   "display_name": "Python 3 (ipykernel)",
   "language": "python",
   "name": "python3"
  },
  "language_info": {
   "codemirror_mode": {
    "name": "ipython",
    "version": 3
   },
   "file_extension": ".py",
   "mimetype": "text/x-python",
   "name": "python",
   "nbconvert_exporter": "python",
   "pygments_lexer": "ipython3",
   "version": "3.10.9"
  }
 },
 "nbformat": 4,
 "nbformat_minor": 5
}
