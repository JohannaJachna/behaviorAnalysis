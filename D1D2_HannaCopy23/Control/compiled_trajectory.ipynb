{
 "cells": [
  {
   "cell_type": "code",
   "execution_count": 1,
   "id": "28880495",
   "metadata": {},
   "outputs": [],
   "source": [
    "import pandas as pd\n",
    "import matplotlib.pyplot as plt\n",
    "import numpy as np\n",
    "import seaborn as sns\n",
    "from matplotlib.patches import Ellipse\n",
    "import matplotlib.patches as patches\n",
    "import librosa"
   ]
  },
  {
   "cell_type": "code",
   "execution_count": 8,
   "id": "e69d7e38",
   "metadata": {},
   "outputs": [],
   "source": [
    "def path_data(n):\n",
    "\n",
    "    all_dataframes = []\n",
    "    \n",
    "    for i in range (1, n+1):\n",
    "        Mi_path = pd.DataFrame()\n",
    "        \n",
    "        column_x = f'M{i}_center_x'\n",
    "        column_y = f'M{i}_center_y'\n",
    "        \n",
    "        Mi_x = globals()[f'M{i}_escape_only']['rotated_x'].reset_index(drop=True)\n",
    "        Mi_y = globals()[f'M{i}_escape_only']['rotated_y'].reset_index(drop=True)\n",
    "        \n",
    "        Mi_path[column_x] = Mi_x\n",
    "        Mi_path[column_y] = Mi_y\n",
    "        \n",
    "        all_dataframes.append(Mi_path)\n",
    "\n",
    "        \n",
    "    return all_dataframes"
   ]
  },
  {
   "cell_type": "code",
   "execution_count": 4,
   "id": "cd53df7e",
   "metadata": {},
   "outputs": [],
   "source": [
    "def summarize_path(n, df):  \n",
    "    for i in range(0, n):\n",
    "        normalized_df = pd.DataFrame()\n",
    "        normalized_x = normalize(df[i].iloc[:,0]) #normalize x values\n",
    "        normalized_y = normalize(df[i].iloc[:,1]) #normalize y values\n",
    "      \n",
    "        normalized_df[f'M{i}_x_normalized_shifted'] = normalized_x - normalized_x.iloc[0]\n",
    "        normalized_df[f'M{i}_y_normalized_shifted'] = normalized_y - normalized_y.iloc[0]\n",
    "        return normalized_df"
   ]
  },
  {
   "cell_type": "code",
   "execution_count": 7,
   "id": "5cd94b5c",
   "metadata": {},
   "outputs": [],
   "source": [
    "def plot_trajectory(n, df):    \n",
    "    fig = plt.figure()  #create figure to fill in\n",
    "    ax = plt.axes()\n",
    "    \n",
    "    for i in range(1,n+1):\n",
    "        x_start = df[i-1].iloc[0]\n",
    "        xi = df[i-1].iloc[:,0]\n",
    "        xf = df[i-1].iloc[:,0].iloc[-1] #final x coordinate\n",
    "        xo = df[i-1].iloc[:,0].iloc[-2] #second to last x coordinate\n",
    "    \n",
    "    \n",
    "        y_start = df[i-1].iloc[0]\n",
    "        yi = df[i-1].iloc[:,1]\n",
    "        yf = df[i-1].iloc[:,1].iloc[-1] #final y coordinate\n",
    "        yo = df[i-1].iloc[:,1].iloc[-2] #second to last y coordinate\n",
    "        \n",
    "        #plt.plot(xi,yi)\n",
    "        ax.plot(xi,yi, color = 'blue', linewidth = 1)\n",
    "\n",
    "    #add an arrow to show mouse's direction\n",
    "    #add an arrow to show mouse's direction\n",
    "\n",
    "\n",
    "\n",
    "        plt.arrow(xo, yo, xf-xo, yf-yo, head_width = .02, head_length = .02, fc = 'blue', ec = \"none\")\n",
    "        ax.set_title('Trajectory during stimulus')  #would be after stimulus\n",
    "        ax.set_xlabel('x-position (cm)', fontsize=12)\n",
    "        ax.set_ylabel('y-position (cm)', fontsize=12)\n",
    "\n",
    "        plt.axis('off')\n",
    "\n",
    "        \n",
    "    return plt"
   ]
  },
  {
   "cell_type": "code",
   "execution_count": null,
   "id": "ca2904fa",
   "metadata": {},
   "outputs": [],
   "source": []
  }
 ],
 "metadata": {
  "kernelspec": {
   "display_name": "Python 3 (ipykernel)",
   "language": "python",
   "name": "python3"
  },
  "language_info": {
   "codemirror_mode": {
    "name": "ipython",
    "version": 3
   },
   "file_extension": ".py",
   "mimetype": "text/x-python",
   "name": "python",
   "nbconvert_exporter": "python",
   "pygments_lexer": "ipython3",
   "version": "3.10.9"
  }
 },
 "nbformat": 4,
 "nbformat_minor": 5
}
