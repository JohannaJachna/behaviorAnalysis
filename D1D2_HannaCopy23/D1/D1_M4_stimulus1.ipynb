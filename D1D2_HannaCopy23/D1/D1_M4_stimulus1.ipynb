{
 "cells": [
  {
   "cell_type": "code",
   "execution_count": 1,
   "id": "b829e103",
   "metadata": {},
   "outputs": [],
   "source": [
    "import pandas as pd\n",
    "import matplotlib.pyplot as plt\n",
    "import numpy as np\n",
    "import seaborn as sns\n",
    "from matplotlib.patches import Ellipse\n",
    "import matplotlib.patches as patches\n",
    "import librosa\n",
    "\n",
    "%run graphing_function_recent.ipynb"
   ]
  },
  {
   "cell_type": "code",
   "execution_count": 2,
   "id": "22ddcd07",
   "metadata": {},
   "outputs": [],
   "source": [
    "#Use this for all adjustable values \n",
    "#input file paths here (include .csv):\n",
    "video_path = r'\\\\10.25.16.5\\yaochen\\Active\\DLC\\Final_Models\\Lindsey\\escape_behavior_2-lindsey_christinger-2024-06-13_v1\\D1D2\\coords_csv\\CoordD1_M4_P2_7_18_24_videoDLC_resnet50_escape_behavior_2Jun13shuffle1_1030000_filtered_day.csv'\n",
    "time_path = r'\\\\10.25.16.5\\yaochen\\Active\\Lindsey\\set_up_testing\\D1D2\\D1\\video_time\\D1_M4_P2_7_18_24_video_time0.csv'\n",
    "audio_path = r'\\\\10.25.16.5\\yaochen\\Active\\Lindsey\\set_up_testing\\D1D2\\D1\\stimulus_time\\D1_M4_P2_7_18_24_stimulus_time0.csv'\n",
    "\n",
    "north_pixel = 96\n",
    "south_pixel = 414\n",
    "east_pixel = 487\n",
    "west_pixel = 146\n",
    "shelter_x_pixel = 331\n",
    "shelter_y_pixel = 389\n",
    "\n",
    "#estimate for when mouse reaches shelter\n",
    "escape_done = 7.5 #time mouse reaches shelter location"
   ]
  },
  {
   "cell_type": "code",
   "execution_count": 3,
   "id": "13ced2f0",
   "metadata": {},
   "outputs": [],
   "source": [
    "#manually decide?\n",
    "escape_response = True\n",
    "freezing_response = False\n",
    "##small_angle = "
   ]
  },
  {
   "cell_type": "code",
   "execution_count": 4,
   "id": "677c094e",
   "metadata": {},
   "outputs": [],
   "source": [
    "#read in DLC data, convert to cm, center platform at 0,0\n",
    "shelter_x, shelter_y, x_diam, y_diam, coord_scaled = single_mouse_data(north_pixel, south_pixel, east_pixel, west_pixel, shelter_x_pixel, shelter_y_pixel, video_path)"
   ]
  },
  {
   "cell_type": "code",
   "execution_count": 5,
   "id": "757e0bea",
   "metadata": {
    "scrolled": false
   },
   "outputs": [
    {
     "data": {
      "text/html": [
       "<div>\n",
       "<style scoped>\n",
       "    .dataframe tbody tr th:only-of-type {\n",
       "        vertical-align: middle;\n",
       "    }\n",
       "\n",
       "    .dataframe tbody tr th {\n",
       "        vertical-align: top;\n",
       "    }\n",
       "\n",
       "    .dataframe thead th {\n",
       "        text-align: right;\n",
       "    }\n",
       "</style>\n",
       "<table border=\"1\" class=\"dataframe\">\n",
       "  <thead>\n",
       "    <tr style=\"text-align: right;\">\n",
       "      <th></th>\n",
       "      <th>nose_x</th>\n",
       "      <th>nose_y</th>\n",
       "      <th>head_x</th>\n",
       "      <th>head_y</th>\n",
       "      <th>center_x</th>\n",
       "      <th>center_y</th>\n",
       "    </tr>\n",
       "  </thead>\n",
       "  <tbody>\n",
       "    <tr>\n",
       "      <th>0</th>\n",
       "      <td>-17.900666</td>\n",
       "      <td>12.734887</td>\n",
       "      <td>-19.548570</td>\n",
       "      <td>12.788603</td>\n",
       "      <td>-21.607040</td>\n",
       "      <td>11.735334</td>\n",
       "    </tr>\n",
       "    <tr>\n",
       "      <th>1</th>\n",
       "      <td>-17.816035</td>\n",
       "      <td>12.744605</td>\n",
       "      <td>-19.527279</td>\n",
       "      <td>12.795886</td>\n",
       "      <td>-21.607040</td>\n",
       "      <td>11.803557</td>\n",
       "    </tr>\n",
       "    <tr>\n",
       "      <th>2</th>\n",
       "      <td>-17.798228</td>\n",
       "      <td>12.745085</td>\n",
       "      <td>-19.498253</td>\n",
       "      <td>12.822235</td>\n",
       "      <td>-21.607040</td>\n",
       "      <td>11.815265</td>\n",
       "    </tr>\n",
       "    <tr>\n",
       "      <th>3</th>\n",
       "      <td>-17.798228</td>\n",
       "      <td>12.748662</td>\n",
       "      <td>-19.483496</td>\n",
       "      <td>12.822440</td>\n",
       "      <td>-21.611331</td>\n",
       "      <td>11.833623</td>\n",
       "    </tr>\n",
       "    <tr>\n",
       "      <th>4</th>\n",
       "      <td>-17.798067</td>\n",
       "      <td>12.745085</td>\n",
       "      <td>-19.483496</td>\n",
       "      <td>12.831420</td>\n",
       "      <td>-21.611331</td>\n",
       "      <td>11.841865</td>\n",
       "    </tr>\n",
       "    <tr>\n",
       "      <th>...</th>\n",
       "      <td>...</td>\n",
       "      <td>...</td>\n",
       "      <td>...</td>\n",
       "      <td>...</td>\n",
       "      <td>...</td>\n",
       "      <td>...</td>\n",
       "    </tr>\n",
       "    <tr>\n",
       "      <th>14058</th>\n",
       "      <td>8.911177</td>\n",
       "      <td>19.344072</td>\n",
       "      <td>10.660422</td>\n",
       "      <td>19.816021</td>\n",
       "      <td>12.894734</td>\n",
       "      <td>19.967078</td>\n",
       "    </tr>\n",
       "    <tr>\n",
       "      <th>14059</th>\n",
       "      <td>8.908464</td>\n",
       "      <td>19.342760</td>\n",
       "      <td>10.660422</td>\n",
       "      <td>19.809558</td>\n",
       "      <td>12.899096</td>\n",
       "      <td>19.967078</td>\n",
       "    </tr>\n",
       "    <tr>\n",
       "      <th>14060</th>\n",
       "      <td>8.915681</td>\n",
       "      <td>19.334758</td>\n",
       "      <td>10.665941</td>\n",
       "      <td>19.807632</td>\n",
       "      <td>12.902508</td>\n",
       "      <td>19.967078</td>\n",
       "    </tr>\n",
       "    <tr>\n",
       "      <th>14061</th>\n",
       "      <td>8.899413</td>\n",
       "      <td>19.333517</td>\n",
       "      <td>10.660422</td>\n",
       "      <td>19.804992</td>\n",
       "      <td>12.899096</td>\n",
       "      <td>19.961546</td>\n",
       "    </tr>\n",
       "    <tr>\n",
       "      <th>14062</th>\n",
       "      <td>8.883794</td>\n",
       "      <td>19.299523</td>\n",
       "      <td>10.631041</td>\n",
       "      <td>19.803857</td>\n",
       "      <td>12.899096</td>\n",
       "      <td>19.961546</td>\n",
       "    </tr>\n",
       "  </tbody>\n",
       "</table>\n",
       "<p>14063 rows × 6 columns</p>\n",
       "</div>"
      ],
      "text/plain": [
       "          nose_x     nose_y     head_x     head_y   center_x   center_y\n",
       "0     -17.900666  12.734887 -19.548570  12.788603 -21.607040  11.735334\n",
       "1     -17.816035  12.744605 -19.527279  12.795886 -21.607040  11.803557\n",
       "2     -17.798228  12.745085 -19.498253  12.822235 -21.607040  11.815265\n",
       "3     -17.798228  12.748662 -19.483496  12.822440 -21.611331  11.833623\n",
       "4     -17.798067  12.745085 -19.483496  12.831420 -21.611331  11.841865\n",
       "...          ...        ...        ...        ...        ...        ...\n",
       "14058   8.911177  19.344072  10.660422  19.816021  12.894734  19.967078\n",
       "14059   8.908464  19.342760  10.660422  19.809558  12.899096  19.967078\n",
       "14060   8.915681  19.334758  10.665941  19.807632  12.902508  19.967078\n",
       "14061   8.899413  19.333517  10.660422  19.804992  12.899096  19.961546\n",
       "14062   8.883794  19.299523  10.631041  19.803857  12.899096  19.961546\n",
       "\n",
       "[14063 rows x 6 columns]"
      ]
     },
     "execution_count": 5,
     "metadata": {},
     "output_type": "execute_result"
    }
   ],
   "source": [
    "#replace any head, nose, or center points with likelihood < .9 with NA\n",
    "filter_data(.8, coord_scaled)"
   ]
  },
  {
   "cell_type": "code",
   "execution_count": 6,
   "id": "fd54aba5",
   "metadata": {
    "scrolled": false
   },
   "outputs": [],
   "source": [
    "#coord_filtered"
   ]
  },
  {
   "cell_type": "code",
   "execution_count": 7,
   "id": "9ec6c88b",
   "metadata": {
    "scrolled": true
   },
   "outputs": [],
   "source": [
    "timestamp_df = convert_time(time_path, coord_scaled, audio_path, 1)"
   ]
  },
  {
   "cell_type": "code",
   "execution_count": 8,
   "id": "4b413417",
   "metadata": {
    "scrolled": false
   },
   "outputs": [
    {
     "data": {
      "text/html": [
       "<div>\n",
       "<style scoped>\n",
       "    .dataframe tbody tr th:only-of-type {\n",
       "        vertical-align: middle;\n",
       "    }\n",
       "\n",
       "    .dataframe tbody tr th {\n",
       "        vertical-align: top;\n",
       "    }\n",
       "\n",
       "    .dataframe thead th {\n",
       "        text-align: right;\n",
       "    }\n",
       "</style>\n",
       "<table border=\"1\" class=\"dataframe\">\n",
       "  <thead>\n",
       "    <tr style=\"text-align: right;\">\n",
       "      <th></th>\n",
       "      <th>Unnamed: 0</th>\n",
       "      <th>frames</th>\n",
       "      <th>nose_x</th>\n",
       "      <th>nose_y</th>\n",
       "      <th>nose_likelihood</th>\n",
       "      <th>head_x</th>\n",
       "      <th>head_y</th>\n",
       "      <th>head_likelihood</th>\n",
       "      <th>earRight_x</th>\n",
       "      <th>earRight_y</th>\n",
       "      <th>...</th>\n",
       "      <th>center_x</th>\n",
       "      <th>center_y</th>\n",
       "      <th>center_likelihood</th>\n",
       "      <th>spine2_x</th>\n",
       "      <th>spine2_y</th>\n",
       "      <th>spine2_likelihood</th>\n",
       "      <th>spine3_x</th>\n",
       "      <th>spine3_y</th>\n",
       "      <th>spine3_likelihood</th>\n",
       "      <th>time_set</th>\n",
       "    </tr>\n",
       "  </thead>\n",
       "  <tbody>\n",
       "    <tr>\n",
       "      <th>14058</th>\n",
       "      <td>14058</td>\n",
       "      <td>14058</td>\n",
       "      <td>8.911177</td>\n",
       "      <td>19.344072</td>\n",
       "      <td>0.999825</td>\n",
       "      <td>10.660422</td>\n",
       "      <td>19.816021</td>\n",
       "      <td>0.999962</td>\n",
       "      <td>10.715275</td>\n",
       "      <td>18.992474</td>\n",
       "      <td>...</td>\n",
       "      <td>12.894734</td>\n",
       "      <td>19.967078</td>\n",
       "      <td>0.999970</td>\n",
       "      <td>14.052398</td>\n",
       "      <td>20.326197</td>\n",
       "      <td>0.999946</td>\n",
       "      <td>15.406743</td>\n",
       "      <td>20.732740</td>\n",
       "      <td>0.999966</td>\n",
       "      <td>180.817357</td>\n",
       "    </tr>\n",
       "    <tr>\n",
       "      <th>14059</th>\n",
       "      <td>14059</td>\n",
       "      <td>14059</td>\n",
       "      <td>8.908464</td>\n",
       "      <td>19.342760</td>\n",
       "      <td>0.999824</td>\n",
       "      <td>10.660422</td>\n",
       "      <td>19.809558</td>\n",
       "      <td>0.999959</td>\n",
       "      <td>10.712480</td>\n",
       "      <td>18.991497</td>\n",
       "      <td>...</td>\n",
       "      <td>12.899096</td>\n",
       "      <td>19.967078</td>\n",
       "      <td>0.999969</td>\n",
       "      <td>14.058446</td>\n",
       "      <td>20.326197</td>\n",
       "      <td>0.999947</td>\n",
       "      <td>15.412514</td>\n",
       "      <td>20.753615</td>\n",
       "      <td>0.999966</td>\n",
       "      <td>180.855757</td>\n",
       "    </tr>\n",
       "    <tr>\n",
       "      <th>14060</th>\n",
       "      <td>14060</td>\n",
       "      <td>14060</td>\n",
       "      <td>8.915681</td>\n",
       "      <td>19.334758</td>\n",
       "      <td>0.999819</td>\n",
       "      <td>10.665941</td>\n",
       "      <td>19.807632</td>\n",
       "      <td>0.999963</td>\n",
       "      <td>10.715275</td>\n",
       "      <td>18.991497</td>\n",
       "      <td>...</td>\n",
       "      <td>12.902508</td>\n",
       "      <td>19.967078</td>\n",
       "      <td>0.999972</td>\n",
       "      <td>14.062590</td>\n",
       "      <td>20.328779</td>\n",
       "      <td>0.999948</td>\n",
       "      <td>15.416302</td>\n",
       "      <td>20.756209</td>\n",
       "      <td>0.999967</td>\n",
       "      <td>180.895501</td>\n",
       "    </tr>\n",
       "    <tr>\n",
       "      <th>14061</th>\n",
       "      <td>14061</td>\n",
       "      <td>14061</td>\n",
       "      <td>8.899413</td>\n",
       "      <td>19.333517</td>\n",
       "      <td>0.999818</td>\n",
       "      <td>10.660422</td>\n",
       "      <td>19.804992</td>\n",
       "      <td>0.999963</td>\n",
       "      <td>10.712480</td>\n",
       "      <td>18.981287</td>\n",
       "      <td>...</td>\n",
       "      <td>12.899096</td>\n",
       "      <td>19.961546</td>\n",
       "      <td>0.999969</td>\n",
       "      <td>14.062590</td>\n",
       "      <td>20.328779</td>\n",
       "      <td>0.999950</td>\n",
       "      <td>15.416302</td>\n",
       "      <td>20.756209</td>\n",
       "      <td>0.999969</td>\n",
       "      <td>180.935501</td>\n",
       "    </tr>\n",
       "    <tr>\n",
       "      <th>14062</th>\n",
       "      <td>14062</td>\n",
       "      <td>14062</td>\n",
       "      <td>8.883794</td>\n",
       "      <td>19.299523</td>\n",
       "      <td>0.999747</td>\n",
       "      <td>10.631041</td>\n",
       "      <td>19.803857</td>\n",
       "      <td>0.999939</td>\n",
       "      <td>10.712480</td>\n",
       "      <td>18.976739</td>\n",
       "      <td>...</td>\n",
       "      <td>12.899096</td>\n",
       "      <td>19.961546</td>\n",
       "      <td>0.999958</td>\n",
       "      <td>14.062590</td>\n",
       "      <td>20.328779</td>\n",
       "      <td>0.999956</td>\n",
       "      <td>15.403604</td>\n",
       "      <td>20.756209</td>\n",
       "      <td>0.999959</td>\n",
       "      <td>180.975488</td>\n",
       "    </tr>\n",
       "  </tbody>\n",
       "</table>\n",
       "<p>5 rows × 27 columns</p>\n",
       "</div>"
      ],
      "text/plain": [
       "       Unnamed: 0  frames    nose_x     nose_y  nose_likelihood     head_x  \\\n",
       "14058       14058   14058  8.911177  19.344072         0.999825  10.660422   \n",
       "14059       14059   14059  8.908464  19.342760         0.999824  10.660422   \n",
       "14060       14060   14060  8.915681  19.334758         0.999819  10.665941   \n",
       "14061       14061   14061  8.899413  19.333517         0.999818  10.660422   \n",
       "14062       14062   14062  8.883794  19.299523         0.999747  10.631041   \n",
       "\n",
       "          head_y  head_likelihood  earRight_x  earRight_y  ...   center_x  \\\n",
       "14058  19.816021         0.999962   10.715275   18.992474  ...  12.894734   \n",
       "14059  19.809558         0.999959   10.712480   18.991497  ...  12.899096   \n",
       "14060  19.807632         0.999963   10.715275   18.991497  ...  12.902508   \n",
       "14061  19.804992         0.999963   10.712480   18.981287  ...  12.899096   \n",
       "14062  19.803857         0.999939   10.712480   18.976739  ...  12.899096   \n",
       "\n",
       "        center_y  center_likelihood   spine2_x   spine2_y  spine2_likelihood  \\\n",
       "14058  19.967078           0.999970  14.052398  20.326197           0.999946   \n",
       "14059  19.967078           0.999969  14.058446  20.326197           0.999947   \n",
       "14060  19.967078           0.999972  14.062590  20.328779           0.999948   \n",
       "14061  19.961546           0.999969  14.062590  20.328779           0.999950   \n",
       "14062  19.961546           0.999958  14.062590  20.328779           0.999956   \n",
       "\n",
       "        spine3_x   spine3_y  spine3_likelihood    time_set  \n",
       "14058  15.406743  20.732740           0.999966  180.817357  \n",
       "14059  15.412514  20.753615           0.999966  180.855757  \n",
       "14060  15.416302  20.756209           0.999967  180.895501  \n",
       "14061  15.416302  20.756209           0.999969  180.935501  \n",
       "14062  15.403604  20.756209           0.999959  180.975488  \n",
       "\n",
       "[5 rows x 27 columns]"
      ]
     },
     "execution_count": 8,
     "metadata": {},
     "output_type": "execute_result"
    }
   ],
   "source": [
    "coord_scaled.tail()"
   ]
  },
  {
   "cell_type": "code",
   "execution_count": 9,
   "id": "13d8a4b7",
   "metadata": {
    "scrolled": true
   },
   "outputs": [],
   "source": [
    "#REPLACE ONCE WE HAVE STIMULUS TIMESTAMPS\n",
    "#returns start and stop times of stimulus.\n",
    "#start, stimulus_end = audio_timing(stimulus_start, stimulus_end, audio_path, coord_scaled['time'].iloc[-1])"
   ]
  },
  {
   "cell_type": "code",
   "execution_count": 10,
   "id": "786e3c1a",
   "metadata": {},
   "outputs": [],
   "source": [
    "#find time stimulus ends and mouse reaches shelter(escape) if stimulus is set to 0s\n",
    "#end, escape = time_set_zero(start, stimulus_end, escape_done, coord_scaled)"
   ]
  },
  {
   "cell_type": "code",
   "execution_count": 16,
   "id": "3ef6f7ed",
   "metadata": {},
   "outputs": [],
   "source": [
    "#calculate displacement as 'displacement'\n",
    "displacement(shelter_x, shelter_y, coord_scaled)"
   ]
  },
  {
   "cell_type": "code",
   "execution_count": 17,
   "id": "3397efed",
   "metadata": {},
   "outputs": [],
   "source": [
    "#calculate speed as 'speed' and change in displacement as 'delta_vector'\n",
    "total_distance = speed(coord_scaled)"
   ]
  },
  {
   "cell_type": "code",
   "execution_count": 18,
   "id": "687c3169",
   "metadata": {},
   "outputs": [],
   "source": [
    "#calculate head angle as 'head_angle'\n",
    "angle(shelter_x, shelter_y, coord_scaled)"
   ]
  },
  {
   "cell_type": "code",
   "execution_count": 14,
   "id": "737c9e3f",
   "metadata": {},
   "outputs": [],
   "source": [
    "#calculate head angle speed as 'angle_speed'\n",
    "angle_speed(coord_scaled)"
   ]
  },
  {
   "cell_type": "code",
   "execution_count": 15,
   "id": "4597d61c",
   "metadata": {},
   "outputs": [
    {
     "ename": "TypeError",
     "evalue": "dataframe_ranges() takes 3 positional arguments but 4 were given",
     "output_type": "error",
     "traceback": [
      "\u001b[1;31m---------------------------------------------------------------------------\u001b[0m",
      "\u001b[1;31mTypeError\u001b[0m                                 Traceback (most recent call last)",
      "Cell \u001b[1;32mIn[15], line 3\u001b[0m\n\u001b[0;32m      1\u001b[0m \u001b[38;5;66;03m#create dataframes isolated to 4 ranges: just shelter reaching, 3 seconds before and 6 after, 2 before and 4 after, and 1 where you can input your own parameters\u001b[39;00m\n\u001b[0;32m      2\u001b[0m \u001b[38;5;66;03m#return 4 dataframes \u001b[39;00m\n\u001b[1;32m----> 3\u001b[0m escape_only, four_second, six_second, long_range, escape_estimate \u001b[38;5;241m=\u001b[39m \u001b[43mdataframe_ranges\u001b[49m\u001b[43m(\u001b[49m\u001b[38;5;241;43m-\u001b[39;49m\u001b[38;5;241;43m7\u001b[39;49m\u001b[43m,\u001b[49m\u001b[43m \u001b[49m\u001b[38;5;241;43m14\u001b[39;49m\u001b[43m,\u001b[49m\u001b[43m \u001b[49m\u001b[43mescape_done\u001b[49m\u001b[43m,\u001b[49m\u001b[43mcoord_scaled\u001b[49m\u001b[43m)\u001b[49m\n",
      "\u001b[1;31mTypeError\u001b[0m: dataframe_ranges() takes 3 positional arguments but 4 were given"
     ]
    }
   ],
   "source": [
    "#create dataframes isolated to 4 ranges: just shelter reaching, 3 seconds before and 6 after, 2 before and 4 after, and 1 where you can input your own parameters\n",
    "#return 4 dataframes \n",
    "escape_only, four_second, six_second, long_range, escape_estimate = dataframe_ranges(-7, 14, escape_done,coord_scaled)"
   ]
  },
  {
   "cell_type": "code",
   "execution_count": null,
   "id": "0aaebbca",
   "metadata": {},
   "outputs": [],
   "source": [
    "long_range"
   ]
  },
  {
   "cell_type": "code",
   "execution_count": 19,
   "id": "4be631c1",
   "metadata": {},
   "outputs": [
    {
     "ename": "NameError",
     "evalue": "name 'escape_estimate' is not defined",
     "output_type": "error",
     "traceback": [
      "\u001b[1;31m---------------------------------------------------------------------------\u001b[0m",
      "\u001b[1;31mNameError\u001b[0m                                 Traceback (most recent call last)",
      "Cell \u001b[1;32mIn[19], line 1\u001b[0m\n\u001b[1;32m----> 1\u001b[0m trajectory(shelter_x, shelter_y, x_diam, y_diam, \u001b[43mescape_estimate\u001b[49m)\n",
      "\u001b[1;31mNameError\u001b[0m: name 'escape_estimate' is not defined"
     ]
    }
   ],
   "source": [
    "trajectory(shelter_x, shelter_y, x_diam, y_diam, escape_estimate)"
   ]
  },
  {
   "cell_type": "code",
   "execution_count": 20,
   "id": "cbc5e3cd",
   "metadata": {},
   "outputs": [
    {
     "ename": "NameError",
     "evalue": "name 'escape_estimate' is not defined",
     "output_type": "error",
     "traceback": [
      "\u001b[1;31m---------------------------------------------------------------------------\u001b[0m",
      "\u001b[1;31mNameError\u001b[0m                                 Traceback (most recent call last)",
      "Cell \u001b[1;32mIn[20], line 1\u001b[0m\n\u001b[1;32m----> 1\u001b[0m head_angle_trajectory_figure(shelter_x, shelter_y, x_diam, y_diam, \u001b[43mescape_estimate\u001b[49m)\n",
      "\u001b[1;31mNameError\u001b[0m: name 'escape_estimate' is not defined"
     ]
    }
   ],
   "source": [
    "head_angle_trajectory_figure(shelter_x, shelter_y, x_diam, y_diam, escape_estimate)"
   ]
  },
  {
   "cell_type": "code",
   "execution_count": null,
   "id": "d81839af",
   "metadata": {},
   "outputs": [],
   "source": [
    "escape_only"
   ]
  },
  {
   "cell_type": "code",
   "execution_count": null,
   "id": "1443e936",
   "metadata": {},
   "outputs": [],
   "source": [
    "speed_figure(four_second['time_set'].iloc[-1],4, four_second)"
   ]
  },
  {
   "cell_type": "code",
   "execution_count": null,
   "id": "b1424e3a",
   "metadata": {},
   "outputs": [],
   "source": [
    "speed_figure(six_second['time_set'].iloc[-1],4, six_second)\n"
   ]
  },
  {
   "cell_type": "code",
   "execution_count": null,
   "id": "6864280b",
   "metadata": {},
   "outputs": [],
   "source": [
    "speed_figure(7.5,9, long_range)"
   ]
  },
  {
   "cell_type": "code",
   "execution_count": null,
   "id": "2acb4378",
   "metadata": {},
   "outputs": [],
   "source": [
    "displacement_figure(four_second['time_set'].iloc[-1],4, four_second)"
   ]
  },
  {
   "cell_type": "code",
   "execution_count": null,
   "id": "25742ae9",
   "metadata": {},
   "outputs": [],
   "source": [
    "displacement_figure(six_second['time_set'].iloc[-1],4, six_second)"
   ]
  },
  {
   "cell_type": "code",
   "execution_count": null,
   "id": "6c37e446",
   "metadata": {},
   "outputs": [],
   "source": [
    "displacement_figure(7.5,9, long_range)"
   ]
  },
  {
   "cell_type": "code",
   "execution_count": null,
   "id": "61ba57b7",
   "metadata": {},
   "outputs": [],
   "source": [
    "head_angle_figure(four_second['time_set'].iloc[-1],4, four_second)"
   ]
  },
  {
   "cell_type": "code",
   "execution_count": null,
   "id": "2e69c097",
   "metadata": {},
   "outputs": [],
   "source": [
    "head_angle_figure(six_second['time_set'].iloc[-1],4, six_second)"
   ]
  },
  {
   "cell_type": "code",
   "execution_count": null,
   "id": "bfb5cc48",
   "metadata": {},
   "outputs": [],
   "source": [
    "angle_speed_figure(four_second['time_set'].iloc[-1], 4,four_second)"
   ]
  },
  {
   "cell_type": "code",
   "execution_count": null,
   "id": "e20abc94",
   "metadata": {},
   "outputs": [],
   "source": [
    "ratio, initial_displacement, total_distance = linearity_ratio(escape_only)"
   ]
  },
  {
   "cell_type": "code",
   "execution_count": null,
   "id": "be0eb18e",
   "metadata": {},
   "outputs": [],
   "source": [
    "#shelter_rotation(shelter_x, shelter_y, escape_only)"
   ]
  },
  {
   "cell_type": "code",
   "execution_count": null,
   "id": "316d9a77",
   "metadata": {
    "scrolled": true
   },
   "outputs": [],
   "source": [
    "escape_only"
   ]
  },
  {
   "cell_type": "code",
   "execution_count": null,
   "id": "4739b834",
   "metadata": {},
   "outputs": [],
   "source": [
    "likelihood_data, likelihood_minus_nose, likelihood_center = likelihood_check(0, 8, .9, coord_scaled)"
   ]
  },
  {
   "cell_type": "code",
   "execution_count": null,
   "id": "24bceebc",
   "metadata": {
    "scrolled": true
   },
   "outputs": [],
   "source": [
    "likelihood_data #need to adjust time frame to be useful "
   ]
  },
  {
   "cell_type": "code",
   "execution_count": null,
   "id": "dd4819d5",
   "metadata": {},
   "outputs": [],
   "source": [
    "rotate, shelter_rotate_x, shelter_rotate_y = rotate_trajectory(shelter_x, shelter_y, escape_only)\n",
    "normalized_df, shelter_normalized_x, shelter_normalized_y, combined_range = normalize_rotation(rotate, shelter_rotate_x, shelter_rotate_y)"
   ]
  },
  {
   "cell_type": "code",
   "execution_count": null,
   "id": "74c4e370",
   "metadata": {},
   "outputs": [],
   "source": [
    "fig = plt.figure()  #create figure to fill in\n",
    "ax = plt.axes()\n",
    "    \n",
    "    #make x and y scales equal - present as a circle\n",
    "\n",
    "\n",
    "    #plot the center x and y coordinates\n",
    "x = rotate['rotated_x']\n",
    "y = rotate['rotated_y']\n",
    "\n",
    "ax.text(shelter_rotate_x,shelter_rotate_y, 'S', color = 'black', size = 10)\n",
    "shelter = patches.Rectangle(((shelter_rotate_x - 5.25), (shelter_rotate_y-6.25)), 10.5,12.5,  linewidth = .8, edgecolor = 'none', facecolor = 'blue', alpha = .1)\n",
    "ax.add_patch(shelter)\n",
    "\n",
    "ax.set_aspect('equal')\n",
    "ax.plot(x,y, color = 'blue', linewidth = 1)\n"
   ]
  },
  {
   "cell_type": "code",
   "execution_count": null,
   "id": "22f367ab",
   "metadata": {},
   "outputs": [],
   "source": [
    "\n",
    "fig = plt.figure()  #create figure to fill in\n",
    "ax = plt.axes()\n",
    "    \n",
    "x = normalized_df['x']\n",
    "y = normalized_df['y']\n",
    "\n",
    "ax.text(shelter_normalized_x,shelter_normalized_y, 'S', color = 'black', size = 10)\n",
    "shelter = patches.Rectangle(((shelter_normalized_x - 5.25/combined_range), (shelter_normalized_y-6.25/combined_range)), 10.5/combined_range,12.5/combined_range,  linewidth = .8, edgecolor = 'none', facecolor = 'blue', alpha = .1)\n",
    "ax.add_patch(shelter)\n",
    "\n",
    "ax.set_aspect('equal')\n",
    "ax.plot(x,y, color = 'blue', linewidth = 1)\n",
    "    \n",
    "\n"
   ]
  },
  {
   "cell_type": "code",
   "execution_count": null,
   "id": "098d2cf6",
   "metadata": {},
   "outputs": [],
   "source": []
  },
  {
   "cell_type": "code",
   "execution_count": null,
   "id": "46cc1d94",
   "metadata": {},
   "outputs": [],
   "source": []
  }
 ],
 "metadata": {
  "kernelspec": {
   "display_name": "Python 3 (ipykernel)",
   "language": "python",
   "name": "python3"
  },
  "language_info": {
   "codemirror_mode": {
    "name": "ipython",
    "version": 3
   },
   "file_extension": ".py",
   "mimetype": "text/x-python",
   "name": "python",
   "nbconvert_exporter": "python",
   "pygments_lexer": "ipython3",
   "version": "3.10.9"
  }
 },
 "nbformat": 4,
 "nbformat_minor": 5
}
