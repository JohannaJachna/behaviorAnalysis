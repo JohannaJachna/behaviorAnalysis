{
 "cells": [
  {
   "cell_type": "code",
   "execution_count": 1,
   "id": "b829e103",
   "metadata": {},
   "outputs": [
    {
     "ename": "SyntaxError",
     "evalue": "expected ':' (1674037511.py, line 1)",
     "output_type": "error",
     "traceback": [
      "\u001b[1;36m  File \u001b[1;32m~\\AppData\\Local\\Temp\\ipykernel_13936\\1674037511.py:1\u001b[1;36m\u001b[0m\n\u001b[1;33m    def graphOfHeadAngleVersusDistanceFromShelter()\u001b[0m\n\u001b[1;37m                                                   ^\u001b[0m\n\u001b[1;31mSyntaxError\u001b[0m\u001b[1;31m:\u001b[0m expected ':'\n"
     ]
    },
    {
     "ename": "SyntaxError",
     "evalue": "expected ':' (1674037511.py, line 1)",
     "output_type": "error",
     "traceback": [
      "Traceback \u001b[1;36m(most recent call last)\u001b[0m:\n",
      "\u001b[0m  File \u001b[0;32mC:\\anaconda\\lib\\site-packages\\IPython\\core\\interactiveshell.py:3460\u001b[0m in \u001b[0;35mrun_code\u001b[0m\n    exec(code_obj, self.user_global_ns, self.user_ns)\u001b[0m\n",
      "\u001b[0m  Cell \u001b[0;32mIn[1], line 9\u001b[0m\n    get_ipython().run_line_magic('run', 'graphing_function_recent.ipynb')\u001b[0m\n",
      "\u001b[0m  File \u001b[0;32mC:\\anaconda\\lib\\site-packages\\IPython\\core\\interactiveshell.py:2369\u001b[0m in \u001b[0;35mrun_line_magic\u001b[0m\n    result = fn(*args, **kwargs)\u001b[0m\n",
      "\u001b[0m  File \u001b[0;32mC:\\anaconda\\lib\\site-packages\\IPython\\core\\magics\\execution.py:718\u001b[0m in \u001b[0;35mrun\u001b[0m\n    self.shell.safe_execfile_ipy(filename, raise_exceptions=True)\u001b[0m\n",
      "\u001b[0m  File \u001b[0;32mC:\\anaconda\\lib\\site-packages\\IPython\\core\\interactiveshell.py:2891\u001b[0m in \u001b[0;35msafe_execfile_ipy\u001b[0m\n    result.raise_error()\u001b[0m\n",
      "\u001b[0m  File \u001b[0;32mC:\\anaconda\\lib\\site-packages\\IPython\\core\\interactiveshell.py:264\u001b[0m in \u001b[0;35mraise_error\u001b[0m\n    raise self.error_before_exec\u001b[0m\n",
      "\u001b[0m  File \u001b[0;32mC:\\anaconda\\lib\\site-packages\\IPython\\core\\interactiveshell.py:3193\u001b[0m in \u001b[0;35mrun_cell_async\u001b[0m\n    code_ast = compiler.ast_parse(cell, filename=cell_name)\u001b[0m\n",
      "\u001b[1;36m  File \u001b[1;32mC:\\anaconda\\lib\\site-packages\\IPython\\core\\compilerop.py:86\u001b[1;36m in \u001b[1;35mast_parse\u001b[1;36m\n\u001b[1;33m    return compile(source, filename, symbol, self.flags | PyCF_ONLY_AST, 1)\u001b[1;36m\n",
      "\u001b[1;36m  File \u001b[1;32m~\\AppData\\Local\\Temp\\ipykernel_13936\\1674037511.py:1\u001b[1;36m\u001b[0m\n\u001b[1;33m    def graphOfHeadAngleVersusDistanceFromShelter()\u001b[0m\n\u001b[1;37m                                                   ^\u001b[0m\n\u001b[1;31mSyntaxError\u001b[0m\u001b[1;31m:\u001b[0m expected ':'\n"
     ]
    }
   ],
   "source": [
    "import pandas as pd\n",
    "import matplotlib.pyplot as plt\n",
    "import numpy as np\n",
    "import seaborn as sns\n",
    "from matplotlib.patches import Ellipse\n",
    "import matplotlib.patches as patches\n",
    "import librosa\n",
    "\n",
    "%run graphing_function_recent.ipynb"
   ]
  },
  {
   "cell_type": "code",
   "execution_count": null,
   "id": "22ddcd07",
   "metadata": {},
   "outputs": [],
   "source": [
    "#Use this for all adjustable values \n",
    "#input file paths here (include .csv):\n",
    "video_path = r'\\\\10.25.16.5\\yaochen\\Active\\DLC\\Final_Models\\Hanna\\escape_behavior_HannaJachna_2024-07-8\\Tested_V2\\coords_csv\\CoordM1_P2_06192024_videoDLC_resnet50_escape_behavior_2Jun13shuffle1_1030000_filtered_day.csv'\n",
    "time_path = r'\\\\10.25.16.5\\yaochen\\Active\\Hanna\\Escape_behavior\\Variation2_EscapeBehavior_Hanna_06192024\\Variation2_EscapeBehavior_Hanna_06192024_timestamp\\M1_P2_06192024_timestamp0.csv'\n",
    "audio_path = r'\\\\10.25.16.5\\yaochen\\Active\\Hanna\\Escape_behavior\\Variation2_EscapeBehavior_Hanna_06192024\\Variation2_EscapeBehavior_Hanna_06192024_audio\\M1_P2_06192024_audio.wav'\n",
    "\n",
    "north_pixel = 21\n",
    "south_pixel = 456\n",
    "east_pixel = 568\n",
    "west_pixel = 98\n",
    "shelter_x_pixel = 534\n",
    "shelter_y_pixel = 260\n",
    "\n",
    "#input info from time_and_audio info notebook (either from audacity or bonsai)\n",
    "stimulus_start = 717.1989799999943  #stimulus start time\n",
    "stimulus_end = 724.8039799999943 #stimulus end time\n",
    "escape_done = 720 #time mouse reaches shelter location\n"
   ]
  },
  {
   "cell_type": "code",
   "execution_count": null,
   "id": "13ced2f0",
   "metadata": {},
   "outputs": [],
   "source": [
    "#manually decide?\n",
    "escape_response = True\n",
    "freezing_response = False\n",
    "#small_angle = "
   ]
  },
  {
   "cell_type": "code",
   "execution_count": null,
   "id": "677c094e",
   "metadata": {},
   "outputs": [],
   "source": [
    "#read in DLC data, convert to cm, center platform at 0,0\n",
    "shelter_x, shelter_y, x_diam, y_diam, coord_scaled = single_mouse_data(north_pixel, south_pixel, east_pixel, west_pixel, shelter_x_pixel, shelter_y_pixel, video_path)"
   ]
  },
  {
   "cell_type": "code",
   "execution_count": null,
   "id": "757e0bea",
   "metadata": {
    "scrolled": false
   },
   "outputs": [],
   "source": [
    "#replace any head, nose, or center points with likelihood < .9 with NA\n",
    "filter_data(.8, coord_scaled)"
   ]
  },
  {
   "cell_type": "code",
   "execution_count": null,
   "id": "fd54aba5",
   "metadata": {
    "scrolled": false
   },
   "outputs": [],
   "source": [
    "#coord_filtered"
   ]
  },
  {
   "cell_type": "code",
   "execution_count": null,
   "id": "4b413417",
   "metadata": {
    "scrolled": false
   },
   "outputs": [],
   "source": [
    "coord_scaled"
   ]
  },
  {
   "cell_type": "code",
   "execution_count": null,
   "id": "0c44aea4",
   "metadata": {},
   "outputs": [],
   "source": [
    "#convert timestamps to zeroed seconds\n",
    "convert_time(time_path, coord_scaled)"
   ]
  },
  {
   "cell_type": "code",
   "execution_count": null,
   "id": "13d8a4b7",
   "metadata": {
    "scrolled": true
   },
   "outputs": [],
   "source": [
    "#REPLACE ONCE WE HAVE STIMULUS TIMESTAMPS\n",
    "#returns start and stop times of stimulus.\n",
    "start, stimulus_end = audio_timing(stimulus_start, stimulus_end, audio_path, coord_scaled['time'].iloc[-1])"
   ]
  },
  {
   "cell_type": "code",
   "execution_count": null,
   "id": "786e3c1a",
   "metadata": {},
   "outputs": [],
   "source": [
    "#find time stimulus ends and mouse reaches shelter(escape) if stimulus is set to 0s\n",
    "end, escape = time_set_zero(start, stimulus_end, escape_done, coord_scaled)"
   ]
  },
  {
   "cell_type": "code",
   "execution_count": null,
   "id": "3ef6f7ed",
   "metadata": {},
   "outputs": [],
   "source": [
    "#calculate displacement as 'displacement'\n",
    "displacement(shelter_x, shelter_y, coord_scaled)"
   ]
  },
  {
   "cell_type": "code",
   "execution_count": null,
   "id": "3397efed",
   "metadata": {},
   "outputs": [],
   "source": [
    "#calculate speed as 'speed' and change in displacement as 'delta_vector'\n",
    "total_distance = speed(coord_scaled)"
   ]
  },
  {
   "cell_type": "code",
   "execution_count": null,
   "id": "687c3169",
   "metadata": {},
   "outputs": [],
   "source": [
    "#calculate head angle as 'head_angle'\n",
    "angle(shelter_x, shelter_y, coord_scaled)"
   ]
  },
  {
   "cell_type": "code",
   "execution_count": null,
   "id": "737c9e3f",
   "metadata": {},
   "outputs": [],
   "source": [
    "#calculate head angle speed as 'angle_speed'\n",
    "angle_speed(coord_scaled)"
   ]
  },
  {
   "cell_type": "code",
   "execution_count": null,
   "id": "4597d61c",
   "metadata": {},
   "outputs": [],
   "source": [
    "#create dataframes isolated to 4 ranges: just shelter reaching, 3 seconds before and 6 after, 2 before and 4 after, and 1 where you can input your own parameters\n",
    "#return 4 dataframes \n",
    "escape_only, four_second, six_second, long_range = dataframe_ranges(-15, 30, escape,coord_scaled)"
   ]
  },
  {
   "cell_type": "code",
   "execution_count": null,
   "id": "4be631c1",
   "metadata": {},
   "outputs": [],
   "source": [
    "trajectory(shelter_x, shelter_y, x_diam, y_diam, escape_only)"
   ]
  },
  {
   "cell_type": "code",
   "execution_count": null,
   "id": "cbc5e3cd",
   "metadata": {},
   "outputs": [],
   "source": [
    "head_angle_trajectory_figure(shelter_x, shelter_y, x_diam, y_diam, escape_only)"
   ]
  },
  {
   "cell_type": "code",
   "execution_count": null,
   "id": "1443e936",
   "metadata": {},
   "outputs": [],
   "source": [
    "speed_figure(four_second['time_set'].iloc[-1],4, four_second)"
   ]
  },
  {
   "cell_type": "code",
   "execution_count": null,
   "id": "b1424e3a",
   "metadata": {},
   "outputs": [],
   "source": [
    "speed_figure(six_second['time_set'].iloc[-1],4, six_second)\n"
   ]
  },
  {
   "cell_type": "code",
   "execution_count": null,
   "id": "6864280b",
   "metadata": {},
   "outputs": [],
   "source": [
    "speed_figure(end,9, long_range)"
   ]
  },
  {
   "cell_type": "code",
   "execution_count": null,
   "id": "2acb4378",
   "metadata": {},
   "outputs": [],
   "source": [
    "displacement_figure(four_second['time_set'].iloc[-1],4, four_second)"
   ]
  },
  {
   "cell_type": "code",
   "execution_count": null,
   "id": "25742ae9",
   "metadata": {},
   "outputs": [],
   "source": [
    "displacement_figure(six_second['time_set'].iloc[-1],4, six_second)"
   ]
  },
  {
   "cell_type": "code",
   "execution_count": null,
   "id": "6c37e446",
   "metadata": {},
   "outputs": [],
   "source": [
    "displacement_figure(end,9, long_range)"
   ]
  },
  {
   "cell_type": "code",
   "execution_count": null,
   "id": "61ba57b7",
   "metadata": {},
   "outputs": [],
   "source": [
    "head_angle_figure(four_second['time_set'].iloc[-1],4, four_second)"
   ]
  },
  {
   "cell_type": "code",
   "execution_count": null,
   "id": "2e69c097",
   "metadata": {},
   "outputs": [],
   "source": [
    "head_angle_figure(six_second['time_set'].iloc[-1],4, six_second)"
   ]
  },
  {
   "cell_type": "code",
   "execution_count": null,
   "id": "bfb5cc48",
   "metadata": {},
   "outputs": [],
   "source": [
    "angle_speed_figure(four_second['time_set'].iloc[-1], 4,four_second)"
   ]
  },
  {
   "cell_type": "code",
   "execution_count": null,
   "id": "e20abc94",
   "metadata": {},
   "outputs": [],
   "source": [
    "ratio, initial_displacement, total_distance = linearity_ratio(escape_only)"
   ]
  },
  {
   "cell_type": "code",
   "execution_count": null,
   "id": "be0eb18e",
   "metadata": {},
   "outputs": [],
   "source": [
    "#shelter_rotation(shelter_x, shelter_y, escape_only)"
   ]
  },
  {
   "cell_type": "code",
   "execution_count": null,
   "id": "316d9a77",
   "metadata": {
    "scrolled": true
   },
   "outputs": [],
   "source": [
    "escape_only"
   ]
  },
  {
   "cell_type": "code",
   "execution_count": null,
   "id": "4739b834",
   "metadata": {},
   "outputs": [],
   "source": [
    "likelihood_data, likelihood_minus_nose, likelihood_center = likelihood_check(0, 8, .9, coord_scaled)"
   ]
  },
  {
   "cell_type": "code",
   "execution_count": null,
   "id": "24bceebc",
   "metadata": {
    "scrolled": true
   },
   "outputs": [],
   "source": [
    "likelihood_data #need to adjust time frame to be useful "
   ]
  },
  {
   "cell_type": "code",
   "execution_count": null,
   "id": "f3ce96bf",
   "metadata": {},
   "outputs": [],
   "source": [
    "rotate, shelter_rotate_x, shelter_rotate_y = rotate_trajectory(shelter_x, shelter_y, escape_only)\n",
    "normalized_df, shelter_normalized_x, shelter_normalized_y, combined_range = normalize_rotation(rotate, shelter_rotate_x, shelter_rotate_y)"
   ]
  },
  {
   "cell_type": "code",
   "execution_count": null,
   "id": "e35ea7f1",
   "metadata": {},
   "outputs": [],
   "source": [
    "fig = plt.figure()  #create figure to fill in\n",
    "ax = plt.axes()\n",
    "    \n",
    "    #make x and y scales equal - present as a circle\n",
    "\n",
    "\n",
    "    #plot the center x and y coordinates\n",
    "x = rotate['rotated_x']\n",
    "y = rotate['rotated_y']\n",
    "\n",
    "ax.text(shelter_rotate_x,shelter_rotate_y, 'S', color = 'black', size = 10)\n",
    "shelter = patches.Rectangle(((shelter_rotate_x - 5.25), (shelter_rotate_y-6.25)), 10.5,12.5,  linewidth = .8, edgecolor = 'none', facecolor = 'blue', alpha = .1)\n",
    "ax.add_patch(shelter)\n",
    "\n",
    "ax.set_aspect('equal')\n",
    "ax.plot(x,y, color = 'blue', linewidth = 1)\n"
   ]
  },
  {
   "cell_type": "code",
   "execution_count": null,
   "id": "102d1ac1",
   "metadata": {},
   "outputs": [],
   "source": [
    "\n",
    "fig = plt.figure()  #create figure to fill in\n",
    "ax = plt.axes()\n",
    "    \n",
    "x = normalized_df['x']\n",
    "y = normalized_df['y']\n",
    "\n",
    "ax.text(shelter_normalized_x,shelter_normalized_y, 'S', color = 'black', size = 10)\n",
    "shelter = patches.Rectangle(((shelter_normalized_x - 5.25/combined_range), (shelter_normalized_y-6.25/combined_range)), 10.5/combined_range,12.5/combined_range,  linewidth = .8, edgecolor = 'none', facecolor = 'blue', alpha = .1)\n",
    "ax.add_patch(shelter)\n",
    "\n",
    "ax.set_aspect('equal')\n",
    "ax.plot(x,y, color = 'blue', linewidth = 1)\n",
    "    \n",
    "\n"
   ]
  }
 ],
 "metadata": {
  "kernelspec": {
   "display_name": "Python 3 (ipykernel)",
   "language": "python",
   "name": "python3"
  },
  "language_info": {
   "codemirror_mode": {
    "name": "ipython",
    "version": 3
   },
   "file_extension": ".py",
   "mimetype": "text/x-python",
   "name": "python",
   "nbconvert_exporter": "python",
   "pygments_lexer": "ipython3",
   "version": "3.10.9"
  }
 },
 "nbformat": 4,
 "nbformat_minor": 5
}
