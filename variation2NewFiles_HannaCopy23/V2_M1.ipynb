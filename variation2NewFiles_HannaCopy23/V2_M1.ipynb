{
 "cells": [
  {
   "cell_type": "code",
   "execution_count": 1,
   "id": "b829e103",
   "metadata": {},
   "outputs": [],
   "source": [
    "import pandas as pd\n",
    "import matplotlib.pyplot as plt\n",
    "import numpy as np\n",
    "import seaborn as sns\n",
    "from matplotlib.patches import Ellipse\n",
    "import matplotlib.patches as patches\n",
    "import librosa\n",
    "\n",
    "%run graphing_function_recent.ipynb"
   ]
  },
  {
   "cell_type": "code",
   "execution_count": 2,
   "id": "22ddcd07",
   "metadata": {},
   "outputs": [],
   "source": [
    "#Use this for all adjustable values \n",
    "#input file paths here (include .csv):\n",
    "video_path = r'\\\\10.25.16.5\\yaochen\\Active\\DLC\\Final_Models\\Lindsey\\escape_behavior_2-lindsey_christinger-2024-06-13_v1\\D1D2\\coords_csv\\Coordcontrol4_P2_7_18_24_videoDLC_resnet50_escape_behavior_2Jun13shuffle1_1030000_filtered_day.csv'\n",
    "time_path = r'\\\\10.25.16.5\\yaochen\\Active\\Lindsey\\set_up_testing\\D1D2\\Control\\video_time\\control4_P2_7_18_24_video_time0.csv'\n",
    "audio_path = r'\\\\10.25.16.5\\yaochen\\Active\\Lindsey\\set_up_testing\\D1D2\\Control\\stimulus_time\\control4_P2_7_18_24_stimulus_time0.csv'\n",
    "\n",
    "north_pixel = 95\n",
    "south_pixel = 414\n",
    "east_pixel = 486\n",
    "west_pixel = 146\n",
    "shelter_x_pixel = 326\n",
    "shelter_y_pixel = 385\n",
    "\n",
    "#estimate for when mouse reaches shelter\n",
    "escape_done = 2.17 #time mouse reaches shelter location"
   ]
  },
  {
   "cell_type": "code",
   "execution_count": 3,
   "id": "13ced2f0",
   "metadata": {},
   "outputs": [],
   "source": [
    "#manually decide?\n",
    "escape_response = True\n",
    "freezing_response = False\n",
    "##small_angle = "
   ]
  },
  {
   "cell_type": "code",
   "execution_count": 4,
   "id": "01f50958",
   "metadata": {},
   "outputs": [],
   "source": [
    "sigma = 2"
   ]
  },
  {
   "cell_type": "code",
   "execution_count": 5,
   "id": "677c094e",
   "metadata": {},
   "outputs": [],
   "source": [
    "#read in DLC data, convert to cm, center platform at 0,0\n",
    "#return converted coordinates for all \n",
    "shelter_x, shelter_y, x_diam, y_diam, coords = single_mouse_data(north_pixel, south_pixel, east_pixel, west_pixel, shelter_x_pixel, shelter_y_pixel, video_path)"
   ]
  },
  {
   "cell_type": "code",
   "execution_count": 6,
   "id": "757e0bea",
   "metadata": {
    "scrolled": false
   },
   "outputs": [],
   "source": [
    "#replace any head, nose, or center points with likelihood < .9 with NA\n",
    "#coords dataframe is filled with NA when LT<.9, coords_scaled has interpolated data (compare in graphs)\n",
    "coord_scaled = filter_data(.9, coords)"
   ]
  },
  {
   "cell_type": "code",
   "execution_count": 7,
   "id": "9ec6c88b",
   "metadata": {
    "scrolled": true
   },
   "outputs": [
    {
     "ename": "TypeError",
     "evalue": "convert_time() takes 2 positional arguments but 4 were given",
     "output_type": "error",
     "traceback": [
      "\u001b[1;31m---------------------------------------------------------------------------\u001b[0m",
      "\u001b[1;31mTypeError\u001b[0m                                 Traceback (most recent call last)",
      "Cell \u001b[1;32mIn[7], line 3\u001b[0m\n\u001b[0;32m      1\u001b[0m \u001b[38;5;66;03m#add time in seconds for both coords (na values) and coord_scaled (interpolated)\u001b[39;00m\n\u001b[0;32m      2\u001b[0m \u001b[38;5;66;03m#results in given dataframe with time in seconds zeroed at stimulus onset. choose which stimulus to look at\u001b[39;00m\n\u001b[1;32m----> 3\u001b[0m \u001b[43mconvert_time\u001b[49m\u001b[43m(\u001b[49m\u001b[43mtime_path\u001b[49m\u001b[43m,\u001b[49m\u001b[43m \u001b[49m\u001b[43mcoord_scaled\u001b[49m\u001b[43m,\u001b[49m\u001b[43m \u001b[49m\u001b[43maudio_path\u001b[49m\u001b[43m,\u001b[49m\u001b[43m \u001b[49m\u001b[38;5;241;43m1\u001b[39;49m\u001b[43m)\u001b[49m\n\u001b[0;32m      4\u001b[0m convert_time(time_path, coords, audio_path, \u001b[38;5;241m1\u001b[39m)\n",
      "\u001b[1;31mTypeError\u001b[0m: convert_time() takes 2 positional arguments but 4 were given"
     ]
    }
   ],
   "source": [
    "#add time in seconds for both coords (na values) and coord_scaled (interpolated)\n",
    "#results in given dataframe with time in seconds zeroed at stimulus onset. choose which stimulus to look at\n",
    "convert_time(time_path, coord_scaled, audio_path, 1)\n",
    "convert_time(time_path, coords, audio_path, 1)"
   ]
  },
  {
   "cell_type": "code",
   "execution_count": null,
   "id": "3ef6f7ed",
   "metadata": {},
   "outputs": [],
   "source": [
    "#calculate displacement as 'displacement'\n",
    "displacement(shelter_x, shelter_y, coord_scaled)\n",
    "displacement(shelter_x, shelter_y, coords)"
   ]
  },
  {
   "cell_type": "code",
   "execution_count": null,
   "id": "3397efed",
   "metadata": {},
   "outputs": [],
   "source": [
    "#calculate speed as 'speed' and change in displacement as 'delta_vector'\n",
    "#return total distance for linearity calculations\n",
    "total_distance = speed(coord_scaled)\n",
    "total_distance_coords = speed(coords)"
   ]
  },
  {
   "cell_type": "code",
   "execution_count": null,
   "id": "687c3169",
   "metadata": {},
   "outputs": [],
   "source": [
    "#calculate head angle as 'head_angle'\n",
    "angle(shelter_x, shelter_y, coord_scaled)\n",
    "angle(shelter_x, shelter_y, coords)\n"
   ]
  },
  {
   "cell_type": "code",
   "execution_count": null,
   "id": "737c9e3f",
   "metadata": {},
   "outputs": [],
   "source": [
    "#calculate head angle speed as 'angle_speed'\n",
    "angle_speed(coord_scaled)\n",
    "angle_speed(coords)"
   ]
  },
  {
   "cell_type": "code",
   "execution_count": null,
   "id": "4597d61c",
   "metadata": {},
   "outputs": [],
   "source": [
    "#create dataframes isolated to 4 ranges: just shelter reaching, 3 seconds before and 6 after, 2 before and 4 after, and 1 where you can input your own parameters\n",
    "#return 4 dataframes \n",
    "time_range = dataframe_ranges(-4, 8, coord_scaled)\n",
    "time_range_coords = dataframe_ranges(-7, 8, coords)"
   ]
  },
  {
   "cell_type": "code",
   "execution_count": null,
   "id": "4be631c1",
   "metadata": {},
   "outputs": [],
   "source": [
    "trajectory(shelter_x, shelter_y, x_diam, y_diam, dataframe_ranges(0, escape_done, coord_scaled))"
   ]
  },
  {
   "cell_type": "code",
   "execution_count": null,
   "id": "cbc5e3cd",
   "metadata": {},
   "outputs": [],
   "source": [
    "head_angle_trajectory_figure(shelter_x, shelter_y, x_diam, y_diam, dataframe_ranges(0, escape_done, coord_scaled))"
   ]
  },
  {
   "cell_type": "code",
   "execution_count": null,
   "id": "bfb5cc48",
   "metadata": {
    "scrolled": true
   },
   "outputs": [],
   "source": [
    "speed_figure(-4, 8, coord_scaled, False, True, sigma)\n",
    "speed_figure(-4, 8, coord_scaled, False, False, sigma)\n",
    "speed_figure(-4, 8, coord_scaled, True, False, sigma)"
   ]
  },
  {
   "cell_type": "code",
   "execution_count": null,
   "id": "56030c8d",
   "metadata": {},
   "outputs": [],
   "source": [
    "displacement_figure(-4, 18,coord_scaled, False, True, sigma)\n",
    "displacement_figure(-4, 8, coord_scaled, False, False, sigma)\n",
    "displacement_figure(-4, 18,coord_scaled, False, False, sigma)"
   ]
  },
  {
   "cell_type": "code",
   "execution_count": null,
   "id": "2a8397cd",
   "metadata": {},
   "outputs": [],
   "source": [
    "head_angle_figure(-3, 6,coord_scaled, False, True, sigma)\n",
    "head_angle_figure(-3, 6,coord_scaled, False, False, sigma)\n",
    "head_angle_figure(-3, 6,coord_scaled, True, True, sigma)\n"
   ]
  },
  {
   "cell_type": "code",
   "execution_count": null,
   "id": "e20abc94",
   "metadata": {},
   "outputs": [],
   "source": [
    "ratio, initial_displacement, total_distance = linearity_ratio(0, escape_done, coord_scaled)"
   ]
  },
  {
   "cell_type": "code",
   "execution_count": null,
   "id": "4739b834",
   "metadata": {},
   "outputs": [],
   "source": [
    "likelihood_data, likelihood_minus_nose, likelihood_center = likelihood_check(0, 8, .9, coords)"
   ]
  },
  {
   "cell_type": "code",
   "execution_count": null,
   "id": "24bceebc",
   "metadata": {
    "scrolled": true
   },
   "outputs": [],
   "source": [
    "likelihood_data #need to adjust time frame to be useful "
   ]
  },
  {
   "cell_type": "code",
   "execution_count": null,
   "id": "dd4819d5",
   "metadata": {},
   "outputs": [],
   "source": [
    "\n",
    "rotate, shelter_rotate_x, shelter_rotate_y = align_shelter(shelter_x, shelter_y, 0, escape_done, coord_scaled)\n",
    "#normalized_df, shelter_normalized_x, shelter_normalized_y, combined_range = normalize_rotation(rotate, shelter_rotate_x, shelter_rotate_y)"
   ]
  },
  {
   "cell_type": "code",
   "execution_count": null,
   "id": "74c4e370",
   "metadata": {},
   "outputs": [],
   "source": [
    "\n",
    "fig = plt.figure()  #create figure to fill in\n",
    "ax = plt.axes()\n",
    "    \n",
    "    #make x and y scales equal - present as a circle\n",
    "\n",
    "\n",
    "    #plot the center x and y coordinates\n",
    "x = rotate['rotated_x']\n",
    "y = rotate['rotated_y']\n",
    "\n",
    "ax.text(shelter_rotate_x,shelter_rotate_y, 'S', color = 'black', size = 10)\n",
    "shelter = patches.Rectangle(((shelter_rotate_x - 5.25), (shelter_rotate_y-6.25)), 10.5,12.5,  linewidth = .8, edgecolor = 'none', facecolor = 'blue', alpha = .1)\n",
    "ax.add_patch(shelter)\n",
    "\n",
    "ax.set_aspect('equal')\n",
    "ax.plot(x,y, color = 'blue', linewidth = 1)\n"
   ]
  },
  {
   "cell_type": "code",
   "execution_count": null,
   "id": "c384e620",
   "metadata": {},
   "outputs": [],
   "source": [
    "coord_scaled_smooth = smooth_curve(sigma, coord_scaled)"
   ]
  }
 ],
 "metadata": {
  "kernelspec": {
   "display_name": "Python 3 (ipykernel)",
   "language": "python",
   "name": "python3"
  },
  "language_info": {
   "codemirror_mode": {
    "name": "ipython",
    "version": 3
   },
   "file_extension": ".py",
   "mimetype": "text/x-python",
   "name": "python",
   "nbconvert_exporter": "python",
   "pygments_lexer": "ipython3",
   "version": "3.10.9"
  }
 },
 "nbformat": 4,
 "nbformat_minor": 5
}
