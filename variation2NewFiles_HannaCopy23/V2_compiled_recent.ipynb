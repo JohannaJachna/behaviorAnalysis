{
 "cells": [
  {
   "cell_type": "code",
   "execution_count": 1,
   "id": "6ebed3f1",
   "metadata": {},
   "outputs": [],
   "source": [
    "import pandas as pd\n",
    "import matplotlib.pyplot as plt\n",
    "import numpy as np\n",
    "import seaborn as sns\n",
    "from matplotlib.patches import Ellipse\n",
    "import matplotlib.patches as patches\n",
    "import librosa"
   ]
  },
  {
   "cell_type": "code",
   "execution_count": 2,
   "id": "ce53e9ce",
   "metadata": {
    "scrolled": true
   },
   "outputs": [
    {
     "ename": "TypeError",
     "evalue": "convert_time() takes 2 positional arguments but 4 were given",
     "output_type": "error",
     "traceback": [
      "\u001b[1;31m---------------------------------------------------------------------------\u001b[0m",
      "\u001b[1;31mTypeError\u001b[0m                                 Traceback (most recent call last)",
      "File \u001b[1;32m~\\AppData\\Local\\Temp\\ipykernel_1552\\2698654031.py:3\u001b[0m\n\u001b[0;32m      1\u001b[0m \u001b[38;5;66;03m#add time in seconds for both coords (na values) and coord_scaled (interpolated)\u001b[39;00m\n\u001b[0;32m      2\u001b[0m \u001b[38;5;66;03m#results in given dataframe with time in seconds zeroed at stimulus onset. choose which stimulus to look at\u001b[39;00m\n\u001b[1;32m----> 3\u001b[0m \u001b[43mconvert_time\u001b[49m\u001b[43m(\u001b[49m\u001b[43mtime_path\u001b[49m\u001b[43m,\u001b[49m\u001b[43m \u001b[49m\u001b[43mcoord_scaled\u001b[49m\u001b[43m,\u001b[49m\u001b[43m \u001b[49m\u001b[43maudio_path\u001b[49m\u001b[43m,\u001b[49m\u001b[43m \u001b[49m\u001b[38;5;241;43m1\u001b[39;49m\u001b[43m)\u001b[49m\n\u001b[0;32m      4\u001b[0m convert_time(time_path, coords, audio_path, \u001b[38;5;241m1\u001b[39m)\n",
      "\u001b[1;31mTypeError\u001b[0m: convert_time() takes 2 positional arguments but 4 were given"
     ]
    },
    {
     "ename": "TypeError",
     "evalue": "convert_time() takes 2 positional arguments but 4 were given",
     "output_type": "error",
     "traceback": [
      "\u001b[1;31m---------------------------------------------------------------------------\u001b[0m",
      "\u001b[1;31mTypeError\u001b[0m                                 Traceback (most recent call last)",
      "File \u001b[1;32m~\\AppData\\Local\\Temp\\ipykernel_1552\\344646492.py:3\u001b[0m\n\u001b[0;32m      1\u001b[0m get_ipython()\u001b[38;5;241m.\u001b[39mrun_line_magic(\u001b[38;5;124m'\u001b[39m\u001b[38;5;124mrun\u001b[39m\u001b[38;5;124m'\u001b[39m, \u001b[38;5;124m'\u001b[39m\u001b[38;5;124mgraphing_function_recent.ipynb\u001b[39m\u001b[38;5;124m'\u001b[39m)\n\u001b[1;32m----> 3\u001b[0m \u001b[43mget_ipython\u001b[49m\u001b[43m(\u001b[49m\u001b[43m)\u001b[49m\u001b[38;5;241;43m.\u001b[39;49m\u001b[43mrun_line_magic\u001b[49m\u001b[43m(\u001b[49m\u001b[38;5;124;43m'\u001b[39;49m\u001b[38;5;124;43mrun\u001b[39;49m\u001b[38;5;124;43m'\u001b[39;49m\u001b[43m,\u001b[49m\u001b[43m \u001b[49m\u001b[38;5;124;43m'\u001b[39;49m\u001b[38;5;124;43mV2_M1.ipynb\u001b[39;49m\u001b[38;5;124;43m'\u001b[39;49m\u001b[43m)\u001b[49m\n\u001b[0;32m      4\u001b[0m M1_coord_scaled \u001b[38;5;241m=\u001b[39m coord_scaled\n\u001b[0;32m      5\u001b[0m M1_escape_only \u001b[38;5;241m=\u001b[39m escape_only\n",
      "File \u001b[1;32mC:\\anaconda\\lib\\site-packages\\IPython\\core\\interactiveshell.py:2369\u001b[0m, in \u001b[0;36mInteractiveShell.run_line_magic\u001b[1;34m(self, magic_name, line, _stack_depth)\u001b[0m\n\u001b[0;32m   2367\u001b[0m     kwargs[\u001b[38;5;124m'\u001b[39m\u001b[38;5;124mlocal_ns\u001b[39m\u001b[38;5;124m'\u001b[39m] \u001b[38;5;241m=\u001b[39m \u001b[38;5;28mself\u001b[39m\u001b[38;5;241m.\u001b[39mget_local_scope(stack_depth)\n\u001b[0;32m   2368\u001b[0m \u001b[38;5;28;01mwith\u001b[39;00m \u001b[38;5;28mself\u001b[39m\u001b[38;5;241m.\u001b[39mbuiltin_trap:\n\u001b[1;32m-> 2369\u001b[0m     result \u001b[38;5;241m=\u001b[39m fn(\u001b[38;5;241m*\u001b[39margs, \u001b[38;5;241m*\u001b[39m\u001b[38;5;241m*\u001b[39mkwargs)\n\u001b[0;32m   2371\u001b[0m \u001b[38;5;66;03m# The code below prevents the output from being displayed\u001b[39;00m\n\u001b[0;32m   2372\u001b[0m \u001b[38;5;66;03m# when using magics with decodator @output_can_be_silenced\u001b[39;00m\n\u001b[0;32m   2373\u001b[0m \u001b[38;5;66;03m# when the last Python token in the expression is a ';'.\u001b[39;00m\n\u001b[0;32m   2374\u001b[0m \u001b[38;5;28;01mif\u001b[39;00m \u001b[38;5;28mgetattr\u001b[39m(fn, magic\u001b[38;5;241m.\u001b[39mMAGIC_OUTPUT_CAN_BE_SILENCED, \u001b[38;5;28;01mFalse\u001b[39;00m):\n",
      "File \u001b[1;32mC:\\anaconda\\lib\\site-packages\\IPython\\core\\magics\\execution.py:718\u001b[0m, in \u001b[0;36mExecutionMagics.run\u001b[1;34m(self, parameter_s, runner, file_finder)\u001b[0m\n\u001b[0;32m    716\u001b[0m     \u001b[38;5;28;01mwith\u001b[39;00m preserve_keys(\u001b[38;5;28mself\u001b[39m\u001b[38;5;241m.\u001b[39mshell\u001b[38;5;241m.\u001b[39muser_ns, \u001b[38;5;124m'\u001b[39m\u001b[38;5;124m__file__\u001b[39m\u001b[38;5;124m'\u001b[39m):\n\u001b[0;32m    717\u001b[0m         \u001b[38;5;28mself\u001b[39m\u001b[38;5;241m.\u001b[39mshell\u001b[38;5;241m.\u001b[39muser_ns[\u001b[38;5;124m'\u001b[39m\u001b[38;5;124m__file__\u001b[39m\u001b[38;5;124m'\u001b[39m] \u001b[38;5;241m=\u001b[39m filename\n\u001b[1;32m--> 718\u001b[0m         \u001b[38;5;28;43mself\u001b[39;49m\u001b[38;5;241;43m.\u001b[39;49m\u001b[43mshell\u001b[49m\u001b[38;5;241;43m.\u001b[39;49m\u001b[43msafe_execfile_ipy\u001b[49m\u001b[43m(\u001b[49m\u001b[43mfilename\u001b[49m\u001b[43m,\u001b[49m\u001b[43m \u001b[49m\u001b[43mraise_exceptions\u001b[49m\u001b[38;5;241;43m=\u001b[39;49m\u001b[38;5;28;43;01mTrue\u001b[39;49;00m\u001b[43m)\u001b[49m\n\u001b[0;32m    719\u001b[0m     \u001b[38;5;28;01mreturn\u001b[39;00m\n\u001b[0;32m    721\u001b[0m \u001b[38;5;66;03m# Control the response to exit() calls made by the script being run\u001b[39;00m\n",
      "File \u001b[1;32mC:\\anaconda\\lib\\site-packages\\IPython\\core\\interactiveshell.py:2891\u001b[0m, in \u001b[0;36mInteractiveShell.safe_execfile_ipy\u001b[1;34m(self, fname, shell_futures, raise_exceptions)\u001b[0m\n\u001b[0;32m   2889\u001b[0m result \u001b[38;5;241m=\u001b[39m \u001b[38;5;28mself\u001b[39m\u001b[38;5;241m.\u001b[39mrun_cell(cell, silent\u001b[38;5;241m=\u001b[39m\u001b[38;5;28;01mTrue\u001b[39;00m, shell_futures\u001b[38;5;241m=\u001b[39mshell_futures)\n\u001b[0;32m   2890\u001b[0m \u001b[38;5;28;01mif\u001b[39;00m raise_exceptions:\n\u001b[1;32m-> 2891\u001b[0m     \u001b[43mresult\u001b[49m\u001b[38;5;241;43m.\u001b[39;49m\u001b[43mraise_error\u001b[49m\u001b[43m(\u001b[49m\u001b[43m)\u001b[49m\n\u001b[0;32m   2892\u001b[0m \u001b[38;5;28;01melif\u001b[39;00m \u001b[38;5;129;01mnot\u001b[39;00m result\u001b[38;5;241m.\u001b[39msuccess:\n\u001b[0;32m   2893\u001b[0m     \u001b[38;5;28;01mbreak\u001b[39;00m\n",
      "File \u001b[1;32mC:\\anaconda\\lib\\site-packages\\IPython\\core\\interactiveshell.py:266\u001b[0m, in \u001b[0;36mExecutionResult.raise_error\u001b[1;34m(self)\u001b[0m\n\u001b[0;32m    264\u001b[0m     \u001b[38;5;28;01mraise\u001b[39;00m \u001b[38;5;28mself\u001b[39m\u001b[38;5;241m.\u001b[39merror_before_exec\n\u001b[0;32m    265\u001b[0m \u001b[38;5;28;01mif\u001b[39;00m \u001b[38;5;28mself\u001b[39m\u001b[38;5;241m.\u001b[39merror_in_exec \u001b[38;5;129;01mis\u001b[39;00m \u001b[38;5;129;01mnot\u001b[39;00m \u001b[38;5;28;01mNone\u001b[39;00m:\n\u001b[1;32m--> 266\u001b[0m     \u001b[38;5;28;01mraise\u001b[39;00m \u001b[38;5;28mself\u001b[39m\u001b[38;5;241m.\u001b[39merror_in_exec\n",
      "    \u001b[1;31m[... skipping hidden 1 frame]\u001b[0m\n",
      "File \u001b[1;32m~\\AppData\\Local\\Temp\\ipykernel_1552\\2698654031.py:3\u001b[0m\n\u001b[0;32m      1\u001b[0m \u001b[38;5;66;03m#add time in seconds for both coords (na values) and coord_scaled (interpolated)\u001b[39;00m\n\u001b[0;32m      2\u001b[0m \u001b[38;5;66;03m#results in given dataframe with time in seconds zeroed at stimulus onset. choose which stimulus to look at\u001b[39;00m\n\u001b[1;32m----> 3\u001b[0m \u001b[43mconvert_time\u001b[49m\u001b[43m(\u001b[49m\u001b[43mtime_path\u001b[49m\u001b[43m,\u001b[49m\u001b[43m \u001b[49m\u001b[43mcoord_scaled\u001b[49m\u001b[43m,\u001b[49m\u001b[43m \u001b[49m\u001b[43maudio_path\u001b[49m\u001b[43m,\u001b[49m\u001b[43m \u001b[49m\u001b[38;5;241;43m1\u001b[39;49m\u001b[43m)\u001b[49m\n\u001b[0;32m      4\u001b[0m convert_time(time_path, coords, audio_path, \u001b[38;5;241m1\u001b[39m)\n",
      "\u001b[1;31mTypeError\u001b[0m: convert_time() takes 2 positional arguments but 4 were given"
     ]
    },
    {
     "ename": "TypeError",
     "evalue": "convert_time() takes 2 positional arguments but 4 were given",
     "output_type": "error",
     "traceback": [
      "\u001b[1;31m---------------------------------------------------------------------------\u001b[0m",
      "\u001b[1;31mTypeError\u001b[0m                                 Traceback (most recent call last)",
      "Cell \u001b[1;32mIn[2], line 1\u001b[0m\n\u001b[1;32m----> 1\u001b[0m \u001b[43mget_ipython\u001b[49m\u001b[43m(\u001b[49m\u001b[43m)\u001b[49m\u001b[38;5;241;43m.\u001b[39;49m\u001b[43mrun_line_magic\u001b[49m\u001b[43m(\u001b[49m\u001b[38;5;124;43m'\u001b[39;49m\u001b[38;5;124;43mrun\u001b[39;49m\u001b[38;5;124;43m'\u001b[39;49m\u001b[43m,\u001b[49m\u001b[43m \u001b[49m\u001b[38;5;124;43m'\u001b[39;49m\u001b[38;5;124;43mcompiled_functions_recent.ipynb\u001b[39;49m\u001b[38;5;124;43m'\u001b[39;49m\u001b[43m)\u001b[49m\n\u001b[0;32m      3\u001b[0m get_ipython()\u001b[38;5;241m.\u001b[39mrun_line_magic(\u001b[38;5;124m'\u001b[39m\u001b[38;5;124mrun\u001b[39m\u001b[38;5;124m'\u001b[39m, \u001b[38;5;124m'\u001b[39m\u001b[38;5;124mcompiled_trajectory.ipynb\u001b[39m\u001b[38;5;124m'\u001b[39m)\n",
      "File \u001b[1;32mC:\\anaconda\\lib\\site-packages\\IPython\\core\\interactiveshell.py:2369\u001b[0m, in \u001b[0;36mInteractiveShell.run_line_magic\u001b[1;34m(self, magic_name, line, _stack_depth)\u001b[0m\n\u001b[0;32m   2367\u001b[0m     kwargs[\u001b[38;5;124m'\u001b[39m\u001b[38;5;124mlocal_ns\u001b[39m\u001b[38;5;124m'\u001b[39m] \u001b[38;5;241m=\u001b[39m \u001b[38;5;28mself\u001b[39m\u001b[38;5;241m.\u001b[39mget_local_scope(stack_depth)\n\u001b[0;32m   2368\u001b[0m \u001b[38;5;28;01mwith\u001b[39;00m \u001b[38;5;28mself\u001b[39m\u001b[38;5;241m.\u001b[39mbuiltin_trap:\n\u001b[1;32m-> 2369\u001b[0m     result \u001b[38;5;241m=\u001b[39m fn(\u001b[38;5;241m*\u001b[39margs, \u001b[38;5;241m*\u001b[39m\u001b[38;5;241m*\u001b[39mkwargs)\n\u001b[0;32m   2371\u001b[0m \u001b[38;5;66;03m# The code below prevents the output from being displayed\u001b[39;00m\n\u001b[0;32m   2372\u001b[0m \u001b[38;5;66;03m# when using magics with decodator @output_can_be_silenced\u001b[39;00m\n\u001b[0;32m   2373\u001b[0m \u001b[38;5;66;03m# when the last Python token in the expression is a ';'.\u001b[39;00m\n\u001b[0;32m   2374\u001b[0m \u001b[38;5;28;01mif\u001b[39;00m \u001b[38;5;28mgetattr\u001b[39m(fn, magic\u001b[38;5;241m.\u001b[39mMAGIC_OUTPUT_CAN_BE_SILENCED, \u001b[38;5;28;01mFalse\u001b[39;00m):\n",
      "File \u001b[1;32mC:\\anaconda\\lib\\site-packages\\IPython\\core\\magics\\execution.py:718\u001b[0m, in \u001b[0;36mExecutionMagics.run\u001b[1;34m(self, parameter_s, runner, file_finder)\u001b[0m\n\u001b[0;32m    716\u001b[0m     \u001b[38;5;28;01mwith\u001b[39;00m preserve_keys(\u001b[38;5;28mself\u001b[39m\u001b[38;5;241m.\u001b[39mshell\u001b[38;5;241m.\u001b[39muser_ns, \u001b[38;5;124m'\u001b[39m\u001b[38;5;124m__file__\u001b[39m\u001b[38;5;124m'\u001b[39m):\n\u001b[0;32m    717\u001b[0m         \u001b[38;5;28mself\u001b[39m\u001b[38;5;241m.\u001b[39mshell\u001b[38;5;241m.\u001b[39muser_ns[\u001b[38;5;124m'\u001b[39m\u001b[38;5;124m__file__\u001b[39m\u001b[38;5;124m'\u001b[39m] \u001b[38;5;241m=\u001b[39m filename\n\u001b[1;32m--> 718\u001b[0m         \u001b[38;5;28;43mself\u001b[39;49m\u001b[38;5;241;43m.\u001b[39;49m\u001b[43mshell\u001b[49m\u001b[38;5;241;43m.\u001b[39;49m\u001b[43msafe_execfile_ipy\u001b[49m\u001b[43m(\u001b[49m\u001b[43mfilename\u001b[49m\u001b[43m,\u001b[49m\u001b[43m \u001b[49m\u001b[43mraise_exceptions\u001b[49m\u001b[38;5;241;43m=\u001b[39;49m\u001b[38;5;28;43;01mTrue\u001b[39;49;00m\u001b[43m)\u001b[49m\n\u001b[0;32m    719\u001b[0m     \u001b[38;5;28;01mreturn\u001b[39;00m\n\u001b[0;32m    721\u001b[0m \u001b[38;5;66;03m# Control the response to exit() calls made by the script being run\u001b[39;00m\n",
      "File \u001b[1;32mC:\\anaconda\\lib\\site-packages\\IPython\\core\\interactiveshell.py:2891\u001b[0m, in \u001b[0;36mInteractiveShell.safe_execfile_ipy\u001b[1;34m(self, fname, shell_futures, raise_exceptions)\u001b[0m\n\u001b[0;32m   2889\u001b[0m result \u001b[38;5;241m=\u001b[39m \u001b[38;5;28mself\u001b[39m\u001b[38;5;241m.\u001b[39mrun_cell(cell, silent\u001b[38;5;241m=\u001b[39m\u001b[38;5;28;01mTrue\u001b[39;00m, shell_futures\u001b[38;5;241m=\u001b[39mshell_futures)\n\u001b[0;32m   2890\u001b[0m \u001b[38;5;28;01mif\u001b[39;00m raise_exceptions:\n\u001b[1;32m-> 2891\u001b[0m     \u001b[43mresult\u001b[49m\u001b[38;5;241;43m.\u001b[39;49m\u001b[43mraise_error\u001b[49m\u001b[43m(\u001b[49m\u001b[43m)\u001b[49m\n\u001b[0;32m   2892\u001b[0m \u001b[38;5;28;01melif\u001b[39;00m \u001b[38;5;129;01mnot\u001b[39;00m result\u001b[38;5;241m.\u001b[39msuccess:\n\u001b[0;32m   2893\u001b[0m     \u001b[38;5;28;01mbreak\u001b[39;00m\n",
      "File \u001b[1;32mC:\\anaconda\\lib\\site-packages\\IPython\\core\\interactiveshell.py:266\u001b[0m, in \u001b[0;36mExecutionResult.raise_error\u001b[1;34m(self)\u001b[0m\n\u001b[0;32m    264\u001b[0m     \u001b[38;5;28;01mraise\u001b[39;00m \u001b[38;5;28mself\u001b[39m\u001b[38;5;241m.\u001b[39merror_before_exec\n\u001b[0;32m    265\u001b[0m \u001b[38;5;28;01mif\u001b[39;00m \u001b[38;5;28mself\u001b[39m\u001b[38;5;241m.\u001b[39merror_in_exec \u001b[38;5;129;01mis\u001b[39;00m \u001b[38;5;129;01mnot\u001b[39;00m \u001b[38;5;28;01mNone\u001b[39;00m:\n\u001b[1;32m--> 266\u001b[0m     \u001b[38;5;28;01mraise\u001b[39;00m \u001b[38;5;28mself\u001b[39m\u001b[38;5;241m.\u001b[39merror_in_exec\n",
      "    \u001b[1;31m[... skipping hidden 1 frame]\u001b[0m\n",
      "File \u001b[1;32m~\\AppData\\Local\\Temp\\ipykernel_1552\\344646492.py:3\u001b[0m\n\u001b[0;32m      1\u001b[0m get_ipython()\u001b[38;5;241m.\u001b[39mrun_line_magic(\u001b[38;5;124m'\u001b[39m\u001b[38;5;124mrun\u001b[39m\u001b[38;5;124m'\u001b[39m, \u001b[38;5;124m'\u001b[39m\u001b[38;5;124mgraphing_function_recent.ipynb\u001b[39m\u001b[38;5;124m'\u001b[39m)\n\u001b[1;32m----> 3\u001b[0m \u001b[43mget_ipython\u001b[49m\u001b[43m(\u001b[49m\u001b[43m)\u001b[49m\u001b[38;5;241;43m.\u001b[39;49m\u001b[43mrun_line_magic\u001b[49m\u001b[43m(\u001b[49m\u001b[38;5;124;43m'\u001b[39;49m\u001b[38;5;124;43mrun\u001b[39;49m\u001b[38;5;124;43m'\u001b[39;49m\u001b[43m,\u001b[49m\u001b[43m \u001b[49m\u001b[38;5;124;43m'\u001b[39;49m\u001b[38;5;124;43mV2_M1.ipynb\u001b[39;49m\u001b[38;5;124;43m'\u001b[39;49m\u001b[43m)\u001b[49m\n\u001b[0;32m      4\u001b[0m M1_coord_scaled \u001b[38;5;241m=\u001b[39m coord_scaled\n\u001b[0;32m      5\u001b[0m M1_escape_only \u001b[38;5;241m=\u001b[39m escape_only\n",
      "File \u001b[1;32mC:\\anaconda\\lib\\site-packages\\IPython\\core\\interactiveshell.py:2369\u001b[0m, in \u001b[0;36mInteractiveShell.run_line_magic\u001b[1;34m(self, magic_name, line, _stack_depth)\u001b[0m\n\u001b[0;32m   2367\u001b[0m     kwargs[\u001b[38;5;124m'\u001b[39m\u001b[38;5;124mlocal_ns\u001b[39m\u001b[38;5;124m'\u001b[39m] \u001b[38;5;241m=\u001b[39m \u001b[38;5;28mself\u001b[39m\u001b[38;5;241m.\u001b[39mget_local_scope(stack_depth)\n\u001b[0;32m   2368\u001b[0m \u001b[38;5;28;01mwith\u001b[39;00m \u001b[38;5;28mself\u001b[39m\u001b[38;5;241m.\u001b[39mbuiltin_trap:\n\u001b[1;32m-> 2369\u001b[0m     result \u001b[38;5;241m=\u001b[39m fn(\u001b[38;5;241m*\u001b[39margs, \u001b[38;5;241m*\u001b[39m\u001b[38;5;241m*\u001b[39mkwargs)\n\u001b[0;32m   2371\u001b[0m \u001b[38;5;66;03m# The code below prevents the output from being displayed\u001b[39;00m\n\u001b[0;32m   2372\u001b[0m \u001b[38;5;66;03m# when using magics with decodator @output_can_be_silenced\u001b[39;00m\n\u001b[0;32m   2373\u001b[0m \u001b[38;5;66;03m# when the last Python token in the expression is a ';'.\u001b[39;00m\n\u001b[0;32m   2374\u001b[0m \u001b[38;5;28;01mif\u001b[39;00m \u001b[38;5;28mgetattr\u001b[39m(fn, magic\u001b[38;5;241m.\u001b[39mMAGIC_OUTPUT_CAN_BE_SILENCED, \u001b[38;5;28;01mFalse\u001b[39;00m):\n",
      "File \u001b[1;32mC:\\anaconda\\lib\\site-packages\\IPython\\core\\magics\\execution.py:718\u001b[0m, in \u001b[0;36mExecutionMagics.run\u001b[1;34m(self, parameter_s, runner, file_finder)\u001b[0m\n\u001b[0;32m    716\u001b[0m     \u001b[38;5;28;01mwith\u001b[39;00m preserve_keys(\u001b[38;5;28mself\u001b[39m\u001b[38;5;241m.\u001b[39mshell\u001b[38;5;241m.\u001b[39muser_ns, \u001b[38;5;124m'\u001b[39m\u001b[38;5;124m__file__\u001b[39m\u001b[38;5;124m'\u001b[39m):\n\u001b[0;32m    717\u001b[0m         \u001b[38;5;28mself\u001b[39m\u001b[38;5;241m.\u001b[39mshell\u001b[38;5;241m.\u001b[39muser_ns[\u001b[38;5;124m'\u001b[39m\u001b[38;5;124m__file__\u001b[39m\u001b[38;5;124m'\u001b[39m] \u001b[38;5;241m=\u001b[39m filename\n\u001b[1;32m--> 718\u001b[0m         \u001b[38;5;28;43mself\u001b[39;49m\u001b[38;5;241;43m.\u001b[39;49m\u001b[43mshell\u001b[49m\u001b[38;5;241;43m.\u001b[39;49m\u001b[43msafe_execfile_ipy\u001b[49m\u001b[43m(\u001b[49m\u001b[43mfilename\u001b[49m\u001b[43m,\u001b[49m\u001b[43m \u001b[49m\u001b[43mraise_exceptions\u001b[49m\u001b[38;5;241;43m=\u001b[39;49m\u001b[38;5;28;43;01mTrue\u001b[39;49;00m\u001b[43m)\u001b[49m\n\u001b[0;32m    719\u001b[0m     \u001b[38;5;28;01mreturn\u001b[39;00m\n\u001b[0;32m    721\u001b[0m \u001b[38;5;66;03m# Control the response to exit() calls made by the script being run\u001b[39;00m\n",
      "File \u001b[1;32mC:\\anaconda\\lib\\site-packages\\IPython\\core\\interactiveshell.py:2891\u001b[0m, in \u001b[0;36mInteractiveShell.safe_execfile_ipy\u001b[1;34m(self, fname, shell_futures, raise_exceptions)\u001b[0m\n\u001b[0;32m   2889\u001b[0m result \u001b[38;5;241m=\u001b[39m \u001b[38;5;28mself\u001b[39m\u001b[38;5;241m.\u001b[39mrun_cell(cell, silent\u001b[38;5;241m=\u001b[39m\u001b[38;5;28;01mTrue\u001b[39;00m, shell_futures\u001b[38;5;241m=\u001b[39mshell_futures)\n\u001b[0;32m   2890\u001b[0m \u001b[38;5;28;01mif\u001b[39;00m raise_exceptions:\n\u001b[1;32m-> 2891\u001b[0m     \u001b[43mresult\u001b[49m\u001b[38;5;241;43m.\u001b[39;49m\u001b[43mraise_error\u001b[49m\u001b[43m(\u001b[49m\u001b[43m)\u001b[49m\n\u001b[0;32m   2892\u001b[0m \u001b[38;5;28;01melif\u001b[39;00m \u001b[38;5;129;01mnot\u001b[39;00m result\u001b[38;5;241m.\u001b[39msuccess:\n\u001b[0;32m   2893\u001b[0m     \u001b[38;5;28;01mbreak\u001b[39;00m\n",
      "File \u001b[1;32mC:\\anaconda\\lib\\site-packages\\IPython\\core\\interactiveshell.py:266\u001b[0m, in \u001b[0;36mExecutionResult.raise_error\u001b[1;34m(self)\u001b[0m\n\u001b[0;32m    264\u001b[0m     \u001b[38;5;28;01mraise\u001b[39;00m \u001b[38;5;28mself\u001b[39m\u001b[38;5;241m.\u001b[39merror_before_exec\n\u001b[0;32m    265\u001b[0m \u001b[38;5;28;01mif\u001b[39;00m \u001b[38;5;28mself\u001b[39m\u001b[38;5;241m.\u001b[39merror_in_exec \u001b[38;5;129;01mis\u001b[39;00m \u001b[38;5;129;01mnot\u001b[39;00m \u001b[38;5;28;01mNone\u001b[39;00m:\n\u001b[1;32m--> 266\u001b[0m     \u001b[38;5;28;01mraise\u001b[39;00m \u001b[38;5;28mself\u001b[39m\u001b[38;5;241m.\u001b[39merror_in_exec\n",
      "    \u001b[1;31m[... skipping hidden 1 frame]\u001b[0m\n",
      "File \u001b[1;32m~\\AppData\\Local\\Temp\\ipykernel_1552\\2698654031.py:3\u001b[0m\n\u001b[0;32m      1\u001b[0m \u001b[38;5;66;03m#add time in seconds for both coords (na values) and coord_scaled (interpolated)\u001b[39;00m\n\u001b[0;32m      2\u001b[0m \u001b[38;5;66;03m#results in given dataframe with time in seconds zeroed at stimulus onset. choose which stimulus to look at\u001b[39;00m\n\u001b[1;32m----> 3\u001b[0m \u001b[43mconvert_time\u001b[49m\u001b[43m(\u001b[49m\u001b[43mtime_path\u001b[49m\u001b[43m,\u001b[49m\u001b[43m \u001b[49m\u001b[43mcoord_scaled\u001b[49m\u001b[43m,\u001b[49m\u001b[43m \u001b[49m\u001b[43maudio_path\u001b[49m\u001b[43m,\u001b[49m\u001b[43m \u001b[49m\u001b[38;5;241;43m1\u001b[39;49m\u001b[43m)\u001b[49m\n\u001b[0;32m      4\u001b[0m convert_time(time_path, coords, audio_path, \u001b[38;5;241m1\u001b[39m)\n",
      "\u001b[1;31mTypeError\u001b[0m: convert_time() takes 2 positional arguments but 4 were given"
     ]
    }
   ],
   "source": [
    "%run compiled_functions_recent.ipynb\n",
    "\n",
    "%run compiled_trajectory.ipynb"
   ]
  },
  {
   "cell_type": "code",
   "execution_count": null,
   "id": "392b39d3",
   "metadata": {
    "scrolled": true
   },
   "outputs": [],
   "source": [
    "%run graphing_function_recent.ipynb\n",
    "\n",
    "%run V2_M1.ipynb\n",
    "M1_coord_scaled = coord_scaled\n",
    "M1_escape_only = escape_only\n",
    "M1_four_second = four_second\n",
    "M1_six_second = six_second\n",
    "M1_long_range = long_range\n",
    "M1_initial_displacement = initial_displacement\n",
    "M1_total_distance = total_distance\n",
    "M1_shelter_x = shelter_x\n",
    "M1_shelter_y = shelter_y\n",
    "M1_normalized_df = normalized_df\n",
    "M1_shelter_normalized_x = shelter_normalized_x\n",
    "M1_shelter_normalized_y = shelter_normalized_y\n",
    "M1_rotate = rotate\n",
    "\n",
    "%run V2_M2.ipynb\n",
    "M2_coord_scaled = coord_scaled\n",
    "M2_escape_only = escape_only\n",
    "M2_four_second = four_second\n",
    "M2_six_second = six_second\n",
    "M2_long_range = long_range\n",
    "M2_initial_displacement = initial_displacement\n",
    "M2_total_distance = total_distance\n",
    "M2_shelter_x = shelter_x\n",
    "M2_shelter_y = shelter_y\n",
    "M2_normalized_df = normalized_df\n",
    "M2_shelter_normalized_x = shelter_normalized_x\n",
    "M2_shelter_normalized_y = shelter_normalized_y\n",
    "M2_rotate = rotate\n",
    "\n",
    "\n",
    "%run V2_M3.ipynb\n",
    "M3_coord_scaled = coord_scaled\n",
    "M3_escape_only = escape_only\n",
    "M3_four_second = four_second\n",
    "M3_six_second = six_second\n",
    "M3_long_range = long_range\n",
    "M3_initial_displacement = initial_displacement\n",
    "M3_total_distance = total_distance\n",
    "M3_shelter_x = shelter_x\n",
    "M3_shelter_y = shelter_y\n",
    "M3_normalized_df = normalized_df\n",
    "M3_shelter_normalized_x = shelter_normalized_x\n",
    "M3_shelter_normalized_y = shelter_normalized_y\n",
    "M3_rotate = rotate\n",
    "\n",
    "\n",
    "%run V2_M4.ipynb\n",
    "M4_coord_scaled = coord_scaled\n",
    "M4_escape_only = escape_only\n",
    "M4_four_second = four_second\n",
    "M4_six_second = six_second\n",
    "M4_long_range = long_range\n",
    "M4_initial_displacement = initial_displacement\n",
    "M4_total_distance = total_distance\n",
    "M4_shelter_x = shelter_x\n",
    "M4_shelter_y = shelter_y\n",
    "M4_normalized_df = normalized_df\n",
    "M4_shelter_normalized_x = shelter_normalized_x\n",
    "M4_shelter_normalized_y = shelter_normalized_y\n",
    "M4_rotate = rotate\n",
    "\n",
    "\n",
    "%run V2_M5.ipynb\n",
    "M5_coord_scaled = coord_scaled\n",
    "M5_escape_only = escape_only\n",
    "M5_four_second = four_second\n",
    "M5_six_second = six_second\n",
    "M5_long_range = long_range\n",
    "M5_initial_displacement = initial_displacement\n",
    "M5_total_distance = total_distance\n",
    "M5_shelter_x = shelter_x\n",
    "M5_shelter_y = shelter_y\n",
    "M5_normalized_df = normalized_df\n",
    "M5_shelter_normalized_x = shelter_normalized_x\n",
    "M5_shelter_normalized_y = shelter_normalized_y\n",
    "M5_rotate = rotate"
   ]
  },
  {
   "cell_type": "code",
   "execution_count": null,
   "id": "6b2194b0",
   "metadata": {},
   "outputs": [],
   "source": [
    "n=5"
   ]
  },
  {
   "cell_type": "code",
   "execution_count": null,
   "id": "2219abc4",
   "metadata": {},
   "outputs": [],
   "source": [
    "def compile_parameters():\n",
    "    plt.figure()\n",
    "    ax=plt.axes()\n",
    "\n",
    "    x = displacement_inter_six['time']\n",
    "    y = displacement_inter_six['average']\n",
    "    y_up = displacement_inter_six['SEM_up']\n",
    "    y_down = displacement_inter_six['SEM_down']\n",
    "\n",
    "    ax.plot(x,y, label = 'displacement')\n",
    "    ax.plot(x,y_up, color = 'none')\n",
    "    ax.plot(x,y_down, color = 'none')\n",
    "    plt.fill_between(x,y_up, y_down, color = 'blue', alpha = .05)\n",
    "    ax.set_xlabel('Time from stimulus onset (s)')\n",
    "    ax.set_ylabel('Normalized values') #convert to cm - cm/s\n",
    "    ax.set_title('Average displacement, speed, and head angle after stimulus onset')\n",
    "    plt.axvline(x=0, color='gray', linestyle='--', linewidth=1)\n",
    "\n",
    "    xs = speed_inter_six['time']\n",
    "    ys = speed_inter_six['average']\n",
    "    y_ups = speed_inter_six['SEM_up']\n",
    "    y_downs = speed_inter_six['SEM_down']\n",
    "\n",
    "    ax.plot(xs,ys, color='red', label = 'speed')\n",
    "    ax.plot(xs,y_ups, color = 'none')\n",
    "    ax.plot(xs,y_downs, color = 'none')\n",
    "    plt.fill_between(xs,y_ups, y_downs, color = 'red', alpha = .05)\n",
    "\n",
    "    xa = angle_inter_six['time']\n",
    "    ya = angle_inter_six['average']\n",
    "    y_upa = angle_inter_six['SEM_up']\n",
    "    y_downa = angle_inter_six['SEM_down']\n",
    "\n",
    "    ax.plot(xa,ya, color='green', label = 'head angle')\n",
    "    ax.plot(xa,y_upa, color = 'none')\n",
    "    ax.plot(xa,y_downa, color = 'none')\n",
    "    plt.fill_between(xa,y_upa, y_downa, color = 'green', alpha = .05)\n",
    "\n",
    "    plt.legend(loc = 'upper right')\n",
    "    return plt"
   ]
  },
  {
   "cell_type": "code",
   "execution_count": null,
   "id": "14368850",
   "metadata": {},
   "outputs": [],
   "source": [
    "def plot_linearity_ratio(n):\n",
    "    plt.figure()\n",
    "    ax = plt.axes()\n",
    "    \n",
    "    max_x = float('-inf')\n",
    "    min_x = float('inf')\n",
    "\n",
    "\n",
    "    for i in range(1, n+1):\n",
    "        x_data = globals()[f'M{i}_initial_displacement']\n",
    "        y_data = globals()[f'M{i}_total_distance']\n",
    "        ax.scatter(x_data, y_data)\n",
    "        \n",
    "        # Update min and max values for x and y data\n",
    "        max_x = max(max_x, x_data.max())\n",
    "        min_x = min(min_x, x_data.min())\n",
    "    \n",
    "    # Plot y=x line based on x_data range\n",
    "    ax.plot([min_x, max_x], [min_x, max_x], color='gray', linestyle='--', linewidth=1)\n",
    "    \n",
    "    ax.xaxis.set_major_locator(plt.MultipleLocator(10))\n",
    "    ax.yaxis.set_major_locator(plt.MultipleLocator(10))\n",
    "    \n",
    "    ax.set_ylabel('Total distance traveled (cm)') #convert to cm - cm/s\n",
    "    ax.set_title('Initial displacement from shelter (cm)')\n",
    "    plt.gca().spines['top'].set_visible(False)\n",
    "    plt.gca().spines['right'].set_visible(False)\n",
    "            \n",
    "    return plt"
   ]
  },
  {
   "cell_type": "code",
   "execution_count": null,
   "id": "7326d32d",
   "metadata": {
    "scrolled": true
   },
   "outputs": [],
   "source": [
    "#interpolate data, combine into one dataframe, and find mean/SEM - input number of mice, start, ,stop, step, column of interest, dataframe of interes\n",
    "#displacement \n",
    "displacement_inter_four = interpolate_all(n, -2, 4, .04, 'displacement', 'four_second')\n",
    "summarize_data(n, 'four_second_interpolated', displacement_inter_four)\n",
    "\n",
    "displacement_inter_six = interpolate_all(n, -3, 6, .04, 'displacement', 'six_second')\n",
    "summarize_data(n, 'six_second_interpolated', displacement_inter_six)\n",
    "\n",
    "#speed\n",
    "speed_inter_four = interpolate_all(n, -2, 4, .04, 'speed', 'four_second')\n",
    "summarize_data(n, 'four_second_interpolated', speed_inter_four)\n",
    "\n",
    "speed_inter_six = interpolate_all(n, -3, 6, .04, 'speed', 'six_second')\n",
    "summarize_data(n, 'six_second_interpolated', speed_inter_six)\n",
    "\n",
    "#head angle\n",
    "angle_inter_four = interpolate_all(n, -2, 4, .04, 'head_angle', 'four_second')\n",
    "summarize_data(n, 'four_second_interpolated', angle_inter_four)\n",
    "\n",
    "angle_inter_six = interpolate_all(n, -3, 6, .04, 'head_angle', 'six_second')\n",
    "summarize_data(n, 'six_second_interpolated', angle_inter_six)"
   ]
  },
  {
   "cell_type": "code",
   "execution_count": null,
   "id": "23c5574a",
   "metadata": {},
   "outputs": [],
   "source": [
    "plot_compiled_displacement(displacement_inter_four,7.5, 4)"
   ]
  },
  {
   "cell_type": "code",
   "execution_count": null,
   "id": "702b8c49",
   "metadata": {
    "scrolled": false
   },
   "outputs": [],
   "source": [
    "plot_compiled_displacement(displacement_inter_six, 7.5,4)"
   ]
  },
  {
   "cell_type": "code",
   "execution_count": null,
   "id": "fb22e84d",
   "metadata": {},
   "outputs": [],
   "source": [
    "plot_compiled_speed(speed_inter_four,7.5, 4)"
   ]
  },
  {
   "cell_type": "code",
   "execution_count": null,
   "id": "7f82e2f6",
   "metadata": {},
   "outputs": [],
   "source": [
    "plot_compiled_speed(speed_inter_six, 7.5,4)"
   ]
  },
  {
   "cell_type": "code",
   "execution_count": null,
   "id": "a2048b43",
   "metadata": {},
   "outputs": [],
   "source": [
    "plot_compiled_angle(angle_inter_four,7.5, 4)"
   ]
  },
  {
   "cell_type": "code",
   "execution_count": null,
   "id": "ed278aa2",
   "metadata": {},
   "outputs": [],
   "source": [
    "plot_compiled_angle(angle_inter_six, 7.5,4)"
   ]
  },
  {
   "cell_type": "code",
   "execution_count": null,
   "id": "77b21e5b",
   "metadata": {
    "scrolled": true
   },
   "outputs": [],
   "source": [
    "plot_all_displacement(displacement_inter_four, mouse_columns(n, 'four_second_interpolated'), 7, 4)"
   ]
  },
  {
   "cell_type": "code",
   "execution_count": null,
   "id": "fa6847c7",
   "metadata": {},
   "outputs": [],
   "source": [
    "plot_all_speed(speed_inter_four, mouse_columns(n, 'four_second_interpolated'), 4, 4)"
   ]
  },
  {
   "cell_type": "code",
   "execution_count": null,
   "id": "df2ecda8",
   "metadata": {},
   "outputs": [],
   "source": [
    "compile_parameters()"
   ]
  },
  {
   "cell_type": "code",
   "execution_count": null,
   "id": "74bd63d8",
   "metadata": {},
   "outputs": [],
   "source": [
    "plot_compiled_trajectory(n)"
   ]
  },
  {
   "cell_type": "code",
   "execution_count": null,
   "id": "b6d4841f",
   "metadata": {},
   "outputs": [],
   "source": [
    "plot_linearity_ratio(n)"
   ]
  },
  {
   "cell_type": "code",
   "execution_count": null,
   "id": "2e2c19db",
   "metadata": {},
   "outputs": [],
   "source": []
  }
 ],
 "metadata": {
  "kernelspec": {
   "display_name": "Python 3 (ipykernel)",
   "language": "python",
   "name": "python3"
  },
  "language_info": {
   "codemirror_mode": {
    "name": "ipython",
    "version": 3
   },
   "file_extension": ".py",
   "mimetype": "text/x-python",
   "name": "python",
   "nbconvert_exporter": "python",
   "pygments_lexer": "ipython3",
   "version": "3.10.9"
  }
 },
 "nbformat": 4,
 "nbformat_minor": 5
}
