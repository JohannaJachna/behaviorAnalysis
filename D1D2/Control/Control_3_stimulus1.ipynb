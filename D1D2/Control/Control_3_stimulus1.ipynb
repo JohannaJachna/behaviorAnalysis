{
 "cells": [
  {
   "cell_type": "code",
   "execution_count": 1,
   "id": "b829e103",
   "metadata": {},
   "outputs": [],
   "source": [
    "import pandas as pd\n",
    "import matplotlib.pyplot as plt\n",
    "import numpy as np\n",
    "import seaborn as sns\n",
    "from matplotlib.patches import Ellipse\n",
    "import matplotlib.patches as patches\n",
    "import librosa\n",
    "\n",
    "%run graphing_function_recent.ipynb"
   ]
  },
  {
   "cell_type": "code",
   "execution_count": 2,
   "id": "22ddcd07",
   "metadata": {},
   "outputs": [],
   "source": [
    "#Use this for all adjustable values \n",
    "#input file paths here (include .csv):\n",
    "video_path = r'\\\\10.25.16.5\\yaochen\\Active\\DLC\\Final_Models\\Lindsey\\escape_behavior_2-lindsey_christinger-2024-06-13_v1\\D1D2\\coords_csv\\Coordcontrol3_P2_7_18_24_videoDLC_resnet50_escape_behavior_2Jun13shuffle1_1030000_filtered_day.csv'\n",
    "time_path = r'\\\\10.25.16.5\\yaochen\\Active\\Hanna\\Escape_behavior\\round2_HannaEscapeBehavior\\videoTimestamp\\M6_07-17-24_control_P2_videoTimestamp0.csv'\n",
    "audio_path = r'\\\\10.25.16.5\\yaochen\\Active\\Hanna\\Escape_behavior\\round2_HannaEscapeBehavior\\stimulusTimestamp\\M6_07-17-24_control_P2_stimulusTimestamp0.csv'\n",
    "\n",
    "north_pixel = 126\n",
    "south_pixel = 445\n",
    "east_pixel = 485\n",
    "west_pixel = 143\n",
    "shelter_x_pixel = 458\n",
    "shelter_y_pixel = 302\n",
    "\n",
    "#estimate for when mouse reaches shelter\n",
    "escape_done = 1.5 #time mouse reaches shelter location"
   ]
  },
  {
   "cell_type": "code",
   "execution_count": 3,
   "id": "13ced2f0",
   "metadata": {},
   "outputs": [],
   "source": [
    "#manually decide?\n",
    "escape_response = True\n",
    "freezing_response = False\n",
    "##small_angle = "
   ]
  },
  {
   "cell_type": "code",
   "execution_count": 4,
   "id": "677c094e",
   "metadata": {},
   "outputs": [],
   "source": [
    "#read in DLC data, convert to cm, center platform at 0,0\n",
    "shelter_x, shelter_y, x_diam, y_diam, coord_scaled = single_mouse_data(north_pixel, south_pixel, east_pixel, west_pixel, shelter_x_pixel, shelter_y_pixel, video_path)"
   ]
  },
  {
   "cell_type": "code",
   "execution_count": 5,
   "id": "757e0bea",
   "metadata": {
    "scrolled": false
   },
   "outputs": [],
   "source": [
    "#replace any head, nose, or center points with likelihood < .9 with NA\n",
    "filter_data(.8, coord_scaled)"
   ]
  },
  {
   "cell_type": "code",
   "execution_count": 6,
   "id": "fd54aba5",
   "metadata": {
    "scrolled": false
   },
   "outputs": [],
   "source": [
    "#coord_filtered"
   ]
  },
  {
   "cell_type": "code",
   "execution_count": 7,
   "id": "9ec6c88b",
   "metadata": {
    "scrolled": true
   },
   "outputs": [],
   "source": [
    "timestamp_df = convert_time(time_path, coord_scaled, audio_path, 2)"
   ]
  },
  {
   "cell_type": "code",
   "execution_count": 8,
   "id": "4b413417",
   "metadata": {
    "scrolled": false
   },
   "outputs": [
    {
     "data": {
      "text/html": [
       "<div>\n",
       "<style scoped>\n",
       "    .dataframe tbody tr th:only-of-type {\n",
       "        vertical-align: middle;\n",
       "    }\n",
       "\n",
       "    .dataframe tbody tr th {\n",
       "        vertical-align: top;\n",
       "    }\n",
       "\n",
       "    .dataframe thead th {\n",
       "        text-align: right;\n",
       "    }\n",
       "</style>\n",
       "<table border=\"1\" class=\"dataframe\">\n",
       "  <thead>\n",
       "    <tr style=\"text-align: right;\">\n",
       "      <th></th>\n",
       "      <th>Unnamed: 0</th>\n",
       "      <th>frames</th>\n",
       "      <th>nose_x</th>\n",
       "      <th>nose_y</th>\n",
       "      <th>nose_likelihood</th>\n",
       "      <th>head_x</th>\n",
       "      <th>head_y</th>\n",
       "      <th>head_likelihood</th>\n",
       "      <th>earRight_x</th>\n",
       "      <th>earRight_y</th>\n",
       "      <th>...</th>\n",
       "      <th>center_x</th>\n",
       "      <th>center_y</th>\n",
       "      <th>center_likelihood</th>\n",
       "      <th>spine2_x</th>\n",
       "      <th>spine2_y</th>\n",
       "      <th>spine2_likelihood</th>\n",
       "      <th>spine3_x</th>\n",
       "      <th>spine3_y</th>\n",
       "      <th>spine3_likelihood</th>\n",
       "      <th>time_set</th>\n",
       "    </tr>\n",
       "  </thead>\n",
       "  <tbody>\n",
       "    <tr>\n",
       "      <th>8479</th>\n",
       "      <td>8479</td>\n",
       "      <td>8479</td>\n",
       "      <td>6.462268</td>\n",
       "      <td>12.752208</td>\n",
       "      <td>0.996794</td>\n",
       "      <td>5.721651</td>\n",
       "      <td>11.390150</td>\n",
       "      <td>0.999910</td>\n",
       "      <td>5.052694</td>\n",
       "      <td>11.658928</td>\n",
       "      <td>...</td>\n",
       "      <td>4.287827</td>\n",
       "      <td>8.189698</td>\n",
       "      <td>0.999984</td>\n",
       "      <td>3.579901</td>\n",
       "      <td>6.522797</td>\n",
       "      <td>0.999819</td>\n",
       "      <td>2.692193</td>\n",
       "      <td>4.581429</td>\n",
       "      <td>0.999930</td>\n",
       "      <td>31.190771</td>\n",
       "    </tr>\n",
       "    <tr>\n",
       "      <th>8480</th>\n",
       "      <td>8480</td>\n",
       "      <td>8480</td>\n",
       "      <td>7.272858</td>\n",
       "      <td>14.200610</td>\n",
       "      <td>0.998235</td>\n",
       "      <td>6.612658</td>\n",
       "      <td>12.623094</td>\n",
       "      <td>0.999818</td>\n",
       "      <td>5.802728</td>\n",
       "      <td>12.941901</td>\n",
       "      <td>...</td>\n",
       "      <td>5.127303</td>\n",
       "      <td>9.678530</td>\n",
       "      <td>0.999902</td>\n",
       "      <td>4.352144</td>\n",
       "      <td>8.030443</td>\n",
       "      <td>0.999971</td>\n",
       "      <td>3.666612</td>\n",
       "      <td>6.197052</td>\n",
       "      <td>0.999855</td>\n",
       "      <td>31.230784</td>\n",
       "    </tr>\n",
       "    <tr>\n",
       "      <th>8481</th>\n",
       "      <td>8481</td>\n",
       "      <td>8481</td>\n",
       "      <td>7.822773</td>\n",
       "      <td>14.870204</td>\n",
       "      <td>0.975533</td>\n",
       "      <td>7.205580</td>\n",
       "      <td>13.953295</td>\n",
       "      <td>0.999941</td>\n",
       "      <td>6.594418</td>\n",
       "      <td>14.168106</td>\n",
       "      <td>...</td>\n",
       "      <td>5.766122</td>\n",
       "      <td>11.097871</td>\n",
       "      <td>0.999978</td>\n",
       "      <td>5.069905</td>\n",
       "      <td>9.421931</td>\n",
       "      <td>0.999942</td>\n",
       "      <td>4.391895</td>\n",
       "      <td>7.673127</td>\n",
       "      <td>0.999957</td>\n",
       "      <td>31.271488</td>\n",
       "    </tr>\n",
       "    <tr>\n",
       "      <th>8482</th>\n",
       "      <td>8482</td>\n",
       "      <td>8482</td>\n",
       "      <td>7.822773</td>\n",
       "      <td>14.870204</td>\n",
       "      <td>0.982884</td>\n",
       "      <td>7.205580</td>\n",
       "      <td>13.953295</td>\n",
       "      <td>0.999965</td>\n",
       "      <td>6.594418</td>\n",
       "      <td>14.168106</td>\n",
       "      <td>...</td>\n",
       "      <td>5.766122</td>\n",
       "      <td>11.097871</td>\n",
       "      <td>0.999974</td>\n",
       "      <td>5.069905</td>\n",
       "      <td>9.421931</td>\n",
       "      <td>0.999972</td>\n",
       "      <td>4.391895</td>\n",
       "      <td>7.673127</td>\n",
       "      <td>0.999978</td>\n",
       "      <td>31.311066</td>\n",
       "    </tr>\n",
       "    <tr>\n",
       "      <th>8483</th>\n",
       "      <td>8483</td>\n",
       "      <td>8483</td>\n",
       "      <td>7.822773</td>\n",
       "      <td>14.870204</td>\n",
       "      <td>0.994463</td>\n",
       "      <td>7.205580</td>\n",
       "      <td>13.953295</td>\n",
       "      <td>0.999759</td>\n",
       "      <td>6.594418</td>\n",
       "      <td>14.168106</td>\n",
       "      <td>...</td>\n",
       "      <td>5.766122</td>\n",
       "      <td>11.097871</td>\n",
       "      <td>0.999924</td>\n",
       "      <td>5.069905</td>\n",
       "      <td>9.421931</td>\n",
       "      <td>0.999928</td>\n",
       "      <td>4.391895</td>\n",
       "      <td>7.673127</td>\n",
       "      <td>0.999917</td>\n",
       "      <td>31.350797</td>\n",
       "    </tr>\n",
       "  </tbody>\n",
       "</table>\n",
       "<p>5 rows × 27 columns</p>\n",
       "</div>"
      ],
      "text/plain": [
       "      Unnamed: 0  frames    nose_x     nose_y  nose_likelihood    head_x  \\\n",
       "8479        8479    8479  6.462268  12.752208         0.996794  5.721651   \n",
       "8480        8480    8480  7.272858  14.200610         0.998235  6.612658   \n",
       "8481        8481    8481  7.822773  14.870204         0.975533  7.205580   \n",
       "8482        8482    8482  7.822773  14.870204         0.982884  7.205580   \n",
       "8483        8483    8483  7.822773  14.870204         0.994463  7.205580   \n",
       "\n",
       "         head_y  head_likelihood  earRight_x  earRight_y  ...  center_x  \\\n",
       "8479  11.390150         0.999910    5.052694   11.658928  ...  4.287827   \n",
       "8480  12.623094         0.999818    5.802728   12.941901  ...  5.127303   \n",
       "8481  13.953295         0.999941    6.594418   14.168106  ...  5.766122   \n",
       "8482  13.953295         0.999965    6.594418   14.168106  ...  5.766122   \n",
       "8483  13.953295         0.999759    6.594418   14.168106  ...  5.766122   \n",
       "\n",
       "       center_y  center_likelihood  spine2_x  spine2_y  spine2_likelihood  \\\n",
       "8479   8.189698           0.999984  3.579901  6.522797           0.999819   \n",
       "8480   9.678530           0.999902  4.352144  8.030443           0.999971   \n",
       "8481  11.097871           0.999978  5.069905  9.421931           0.999942   \n",
       "8482  11.097871           0.999974  5.069905  9.421931           0.999972   \n",
       "8483  11.097871           0.999924  5.069905  9.421931           0.999928   \n",
       "\n",
       "      spine3_x  spine3_y  spine3_likelihood   time_set  \n",
       "8479  2.692193  4.581429           0.999930  31.190771  \n",
       "8480  3.666612  6.197052           0.999855  31.230784  \n",
       "8481  4.391895  7.673127           0.999957  31.271488  \n",
       "8482  4.391895  7.673127           0.999978  31.311066  \n",
       "8483  4.391895  7.673127           0.999917  31.350797  \n",
       "\n",
       "[5 rows x 27 columns]"
      ]
     },
     "execution_count": 8,
     "metadata": {},
     "output_type": "execute_result"
    }
   ],
   "source": [
    "coord_scaled.tail()"
   ]
  },
  {
   "cell_type": "code",
   "execution_count": 9,
   "id": "13d8a4b7",
   "metadata": {
    "scrolled": true
   },
   "outputs": [],
   "source": [
    "#REPLACE ONCE WE HAVE STIMULUS TIMESTAMPS\n",
    "#returns start and stop times of stimulus.\n",
    "#start, stimulus_end = audio_timing(stimulus_start, stimulus_end, audio_path, coord_scaled['time'].iloc[-1])"
   ]
  },
  {
   "cell_type": "code",
   "execution_count": 10,
   "id": "786e3c1a",
   "metadata": {},
   "outputs": [],
   "source": [
    "#find time stimulus ends and mouse reaches shelter(escape) if stimulus is set to 0s\n",
    "#end, escape = time_set_zero(start, stimulus_end, escape_done, coord_scaled)"
   ]
  },
  {
   "cell_type": "code",
   "execution_count": 11,
   "id": "3ef6f7ed",
   "metadata": {},
   "outputs": [],
   "source": [
    "#calculate displacement as 'displacement'\n",
    "displacement(shelter_x, shelter_y, coord_scaled)"
   ]
  },
  {
   "cell_type": "code",
   "execution_count": 12,
   "id": "3397efed",
   "metadata": {},
   "outputs": [],
   "source": [
    "#calculate speed as 'speed' and change in displacement as 'delta_vector'\n",
    "total_distance = speed(coord_scaled)"
   ]
  },
  {
   "cell_type": "code",
   "execution_count": 13,
   "id": "687c3169",
   "metadata": {},
   "outputs": [],
   "source": [
    "#calculate head angle as 'head_angle'\n",
    "angle(shelter_x, shelter_y, coord_scaled)"
   ]
  },
  {
   "cell_type": "code",
   "execution_count": 14,
   "id": "737c9e3f",
   "metadata": {},
   "outputs": [],
   "source": [
    "#calculate head angle speed as 'angle_speed'\n",
    "angle_speed(coord_scaled)"
   ]
  },
  {
   "cell_type": "code",
   "execution_count": 15,
   "id": "4597d61c",
   "metadata": {},
   "outputs": [
    {
     "ename": "ValueError",
     "evalue": "too many values to unpack (expected 4)",
     "output_type": "error",
     "traceback": [
      "\u001b[1;31m---------------------------------------------------------------------------\u001b[0m",
      "\u001b[1;31mValueError\u001b[0m                                Traceback (most recent call last)",
      "Cell \u001b[1;32mIn[15], line 3\u001b[0m\n\u001b[0;32m      1\u001b[0m \u001b[38;5;66;03m#create dataframes isolated to 4 ranges: just shelter reaching, 3 seconds before and 6 after, 2 before and 4 after, and 1 where you can input your own parameters\u001b[39;00m\n\u001b[0;32m      2\u001b[0m \u001b[38;5;66;03m#return 4 dataframes \u001b[39;00m\n\u001b[1;32m----> 3\u001b[0m escape_only, four_second, six_second, long_range \u001b[38;5;241m=\u001b[39m dataframe_ranges(\u001b[38;5;241m-\u001b[39m\u001b[38;5;241m7\u001b[39m, \u001b[38;5;241m14\u001b[39m, escape_done,coord_scaled)\n",
      "\u001b[1;31mValueError\u001b[0m: too many values to unpack (expected 4)"
     ]
    }
   ],
   "source": [
    "#create dataframes isolated to 4 ranges: just shelter reaching, 3 seconds before and 6 after, 2 before and 4 after, and 1 where you can input your own parameters\n",
    "#return 4 dataframes \n",
    "escape_only, four_second, six_second, long_range = dataframe_ranges(-7, 14, escape_done,coord_scaled)"
   ]
  },
  {
   "cell_type": "code",
   "execution_count": null,
   "id": "0aaebbca",
   "metadata": {},
   "outputs": [],
   "source": [
    "escape_only"
   ]
  },
  {
   "cell_type": "code",
   "execution_count": null,
   "id": "4be631c1",
   "metadata": {},
   "outputs": [],
   "source": [
    "trajectory(shelter_x, shelter_y, x_diam, y_diam, escape_only)"
   ]
  },
  {
   "cell_type": "code",
   "execution_count": null,
   "id": "cbc5e3cd",
   "metadata": {},
   "outputs": [],
   "source": [
    "head_angle_trajectory_figure(shelter_x, shelter_y, x_diam, y_diam, escape_only)"
   ]
  },
  {
   "cell_type": "code",
   "execution_count": null,
   "id": "d81839af",
   "metadata": {},
   "outputs": [],
   "source": [
    "escape_only"
   ]
  },
  {
   "cell_type": "code",
   "execution_count": null,
   "id": "1443e936",
   "metadata": {},
   "outputs": [],
   "source": [
    "speed_figure(four_second['time_set'].iloc[-1],4, four_second)"
   ]
  },
  {
   "cell_type": "code",
   "execution_count": null,
   "id": "b1424e3a",
   "metadata": {},
   "outputs": [],
   "source": [
    "speed_figure(six_second['time_set'].iloc[-1],4, six_second)\n"
   ]
  },
  {
   "cell_type": "code",
   "execution_count": null,
   "id": "6864280b",
   "metadata": {},
   "outputs": [],
   "source": [
    "speed_figure(7.5,9, long_range)"
   ]
  },
  {
   "cell_type": "code",
   "execution_count": null,
   "id": "2acb4378",
   "metadata": {},
   "outputs": [],
   "source": [
    "displacement_figure(four_second['time_set'].iloc[-1],4, four_second)"
   ]
  },
  {
   "cell_type": "code",
   "execution_count": null,
   "id": "25742ae9",
   "metadata": {},
   "outputs": [],
   "source": [
    "displacement_figure(six_second['time_set'].iloc[-1],4, six_second)"
   ]
  },
  {
   "cell_type": "code",
   "execution_count": null,
   "id": "6c37e446",
   "metadata": {},
   "outputs": [],
   "source": [
    "displacement_figure(7.5,9, long_range)"
   ]
  },
  {
   "cell_type": "code",
   "execution_count": null,
   "id": "61ba57b7",
   "metadata": {},
   "outputs": [],
   "source": [
    "head_angle_figure(four_second['time_set'].iloc[-1],4, four_second)"
   ]
  },
  {
   "cell_type": "code",
   "execution_count": null,
   "id": "2e69c097",
   "metadata": {},
   "outputs": [],
   "source": [
    "head_angle_figure(six_second['time_set'].iloc[-1],4, six_second)"
   ]
  },
  {
   "cell_type": "code",
   "execution_count": null,
   "id": "bfb5cc48",
   "metadata": {},
   "outputs": [],
   "source": [
    "angle_speed_figure(four_second['time_set'].iloc[-1], 4,four_second)"
   ]
  },
  {
   "cell_type": "code",
   "execution_count": null,
   "id": "e20abc94",
   "metadata": {},
   "outputs": [],
   "source": [
    "ratio, initial_displacement, total_distance = linearity_ratio(escape_only)"
   ]
  },
  {
   "cell_type": "code",
   "execution_count": null,
   "id": "be0eb18e",
   "metadata": {},
   "outputs": [],
   "source": [
    "#shelter_rotation(shelter_x, shelter_y, escape_only)"
   ]
  },
  {
   "cell_type": "code",
   "execution_count": null,
   "id": "316d9a77",
   "metadata": {
    "scrolled": true
   },
   "outputs": [],
   "source": [
    "escape_only"
   ]
  },
  {
   "cell_type": "code",
   "execution_count": null,
   "id": "4739b834",
   "metadata": {},
   "outputs": [],
   "source": [
    "likelihood_data, likelihood_minus_nose, likelihood_center = likelihood_check(0, 8, .9, coord_scaled)"
   ]
  },
  {
   "cell_type": "code",
   "execution_count": null,
   "id": "24bceebc",
   "metadata": {
    "scrolled": true
   },
   "outputs": [],
   "source": [
    "likelihood_data #need to adjust time frame to be useful "
   ]
  },
  {
   "cell_type": "code",
   "execution_count": null,
   "id": "dd4819d5",
   "metadata": {},
   "outputs": [],
   "source": [
    "rotate, shelter_rotate_x, shelter_rotate_y = rotate_trajectory(shelter_x, shelter_y, escape_only)\n",
    "normalized_df, shelter_normalized_x, shelter_normalized_y, combined_range = normalize_rotation(rotate, shelter_rotate_x, shelter_rotate_y)"
   ]
  },
  {
   "cell_type": "code",
   "execution_count": null,
   "id": "74c4e370",
   "metadata": {},
   "outputs": [],
   "source": [
    "fig = plt.figure()  #create figure to fill in\n",
    "ax = plt.axes()\n",
    "    \n",
    "    #make x and y scales equal - present as a circle\n",
    "\n",
    "\n",
    "    #plot the center x and y coordinates\n",
    "x = rotate['rotated_x']\n",
    "y = rotate['rotated_y']\n",
    "\n",
    "ax.text(shelter_rotate_x,shelter_rotate_y, 'S', color = 'black', size = 10)\n",
    "shelter = patches.Rectangle(((shelter_rotate_x - 5.25), (shelter_rotate_y-6.25)), 10.5,12.5,  linewidth = .8, edgecolor = 'none', facecolor = 'blue', alpha = .1)\n",
    "ax.add_patch(shelter)\n",
    "\n",
    "ax.set_aspect('equal')\n",
    "ax.plot(x,y, color = 'blue', linewidth = 1)\n"
   ]
  },
  {
   "cell_type": "code",
   "execution_count": null,
   "id": "22f367ab",
   "metadata": {},
   "outputs": [],
   "source": [
    "\n",
    "fig = plt.figure()  #create figure to fill in\n",
    "ax = plt.axes()\n",
    "    \n",
    "x = normalized_df['x']\n",
    "y = normalized_df['y']\n",
    "\n",
    "ax.text(shelter_normalized_x,shelter_normalized_y, 'S', color = 'black', size = 10)\n",
    "shelter = patches.Rectangle(((shelter_normalized_x - 5.25/combined_range), (shelter_normalized_y-6.25/combined_range)), 10.5/combined_range,12.5/combined_range,  linewidth = .8, edgecolor = 'none', facecolor = 'blue', alpha = .1)\n",
    "ax.add_patch(shelter)\n",
    "\n",
    "ax.set_aspect('equal')\n",
    "ax.plot(x,y, color = 'blue', linewidth = 1)\n",
    "    \n",
    "\n"
   ]
  },
  {
   "cell_type": "code",
   "execution_count": null,
   "id": "098d2cf6",
   "metadata": {},
   "outputs": [],
   "source": []
  },
  {
   "cell_type": "code",
   "execution_count": null,
   "id": "0fe85005",
   "metadata": {},
   "outputs": [],
   "source": []
  },
  {
   "cell_type": "code",
   "execution_count": null,
   "id": "841acaf5",
   "metadata": {},
   "outputs": [],
   "source": []
  },
  {
   "cell_type": "code",
   "execution_count": null,
   "id": "76e44a6c",
   "metadata": {},
   "outputs": [],
   "source": []
  }
 ],
 "metadata": {
  "kernelspec": {
   "display_name": "Python 3 (ipykernel)",
   "language": "python",
   "name": "python3"
  },
  "language_info": {
   "codemirror_mode": {
    "name": "ipython",
    "version": 3
   },
   "file_extension": ".py",
   "mimetype": "text/x-python",
   "name": "python",
   "nbconvert_exporter": "python",
   "pygments_lexer": "ipython3",
   "version": "3.10.9"
  }
 },
 "nbformat": 4,
 "nbformat_minor": 5
}
